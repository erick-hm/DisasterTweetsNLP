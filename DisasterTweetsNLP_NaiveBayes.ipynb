{
 "cells": [
  {
   "cell_type": "markdown",
   "metadata": {},
   "source": [
    "# Disaster Tweets: Predicting Occurences of Real Disasters\n",
    "\n",
    "Twitter has found use recently in many analytics problems as many people from around the world are able to report things before reputable news outlets can verify them. However, it is also the case that people lie or use language that implies a disaster in a metaphorical sense (eg. *we're going to cause an earthquake tonight*). The purpose of this Kaggle competition is to determine which bracket these tweets fall into based on their hand classified tweets."
   ]
  },
  {
   "cell_type": "code",
   "execution_count": 211,
   "metadata": {},
   "outputs": [
    {
     "name": "stderr",
     "output_type": "stream",
     "text": [
      "[nltk_data] Downloading package stopwords to /Users/eh115/nltk_data...\n",
      "[nltk_data]   Package stopwords is already up-to-date!\n",
      "[nltk_data] Downloading package wordnet to /Users/eh115/nltk_data...\n",
      "[nltk_data]   Package wordnet is already up-to-date!\n",
      "[nltk_data] Downloading package averaged_perceptron_tagger to\n",
      "[nltk_data]     /Users/eh115/nltk_data...\n",
      "[nltk_data]   Package averaged_perceptron_tagger is already up-to-\n",
      "[nltk_data]       date!\n"
     ]
    }
   ],
   "source": [
    "import numpy as np\n",
    "import pandas as pd\n",
    "import sys\n",
    "from sys import path\n",
    "\n",
    "#plotting libraries\n",
    "import matplotlib.pyplot as plt\n",
    "import seaborn as sns\n",
    "import cufflinks as cf\n",
    "import plotly\n",
    "import plotly.express as px\n",
    "import plotly.figure_factory as ff\n",
    "\n",
    "#machine learning\n",
    "from sklearn.feature_extraction.text import CountVectorizer\n",
    "from sklearn.naive_bayes import MultinomialNB\n",
    "from sklearn.model_selection import train_test_split\n",
    "from sklearn.metrics import f1_score, plot_confusion_matrix, confusion_matrix\n",
    "\n",
    "#nlp\n",
    "import nltk\n",
    "nltk.download('stopwords')\n",
    "nltk.download('wordnet')\n",
    "nltk.download('averaged_perceptron_tagger')\n",
    "from nltk.corpus import stopwords, wordnet\n",
    "from nltk.tokenize import word_tokenize\n",
    "#Lemmatizing the words to reduce to root form\n",
    "from nltk.stem import WordNetLemmatizer\n",
    "#pos tagging to be able to put words in their root form\n",
    "from nltk import pos_tag\n",
    "\n",
    "#useful for a function we build later\n",
    "from math import isnan\n",
    "\n",
    "from collections import Counter \n",
    "\n",
    "sys.path.append('./nlp-getting-started/')\n",
    "\n",
    "import warnings\n",
    "warnings.filterwarnings('ignore')"
   ]
  },
  {
   "cell_type": "markdown",
   "metadata": {},
   "source": [
    "## Importing the training tweets and getting to understand the dataset\n",
    "\n",
    "Our dataset has $5$ columns:\n",
    " - Id: A unique identifier attached to the tweet.\n",
    " - keyword: A particular keyword from the tweet that might have been important or pertaining to a disaster (may be blank).\n",
    " - location: Location of the sender (may be blank).\n",
    " - text: The text contained in the tweet.\n",
    " - target: The class of the tweet. *Real Disaster* = $1$ and *False Alarm* = $0$\n",
    " \n",
    "In the training set we have $7613$ tweets. \n",
    "\n",
    "There are $222$ unique keywords, including NaN. Examples of some keywords: *avalanche*, *damage*, *cyclone*, *siren* etc. \n",
    "\n",
    "There are $3342$ unique locations in the training set, these are city names such as *London*, *Birmingham*, *Vancouver, Canada* etc.\n",
    " "
   ]
  },
  {
   "cell_type": "code",
   "execution_count": 2,
   "metadata": {},
   "outputs": [
    {
     "data": {
      "text/plain": [
       "(Index(['id', 'keyword', 'location', 'text', 'target'], dtype='object'), 7613)"
      ]
     },
     "execution_count": 2,
     "metadata": {},
     "output_type": "execute_result"
    }
   ],
   "source": [
    "#Will split into training and test sets after\n",
    "tweets = pd.read_csv('./nlp-getting-started/train.csv')\n",
    "tweets.columns, len(tweets)"
   ]
  },
  {
   "cell_type": "code",
   "execution_count": 3,
   "metadata": {},
   "outputs": [],
   "source": [
    "#Importing the test tweets: these do not have a target label as they are for a kaggle competition\n",
    "test_tweets = pd.read_csv('./nlp-getting-started/test.csv')"
   ]
  },
  {
   "cell_type": "code",
   "execution_count": 4,
   "metadata": {},
   "outputs": [
    {
     "data": {
      "text/html": [
       "<div>\n",
       "<style scoped>\n",
       "    .dataframe tbody tr th:only-of-type {\n",
       "        vertical-align: middle;\n",
       "    }\n",
       "\n",
       "    .dataframe tbody tr th {\n",
       "        vertical-align: top;\n",
       "    }\n",
       "\n",
       "    .dataframe thead th {\n",
       "        text-align: right;\n",
       "    }\n",
       "</style>\n",
       "<table border=\"1\" class=\"dataframe\">\n",
       "  <thead>\n",
       "    <tr style=\"text-align: right;\">\n",
       "      <th></th>\n",
       "      <th>id</th>\n",
       "      <th>keyword</th>\n",
       "      <th>location</th>\n",
       "      <th>text</th>\n",
       "      <th>target</th>\n",
       "    </tr>\n",
       "  </thead>\n",
       "  <tbody>\n",
       "    <tr>\n",
       "      <th>0</th>\n",
       "      <td>1</td>\n",
       "      <td>NaN</td>\n",
       "      <td>NaN</td>\n",
       "      <td>Our Deeds are the Reason of this #earthquake M...</td>\n",
       "      <td>1</td>\n",
       "    </tr>\n",
       "    <tr>\n",
       "      <th>1</th>\n",
       "      <td>4</td>\n",
       "      <td>NaN</td>\n",
       "      <td>NaN</td>\n",
       "      <td>Forest fire near La Ronge Sask. Canada</td>\n",
       "      <td>1</td>\n",
       "    </tr>\n",
       "    <tr>\n",
       "      <th>2</th>\n",
       "      <td>5</td>\n",
       "      <td>NaN</td>\n",
       "      <td>NaN</td>\n",
       "      <td>All residents asked to 'shelter in place' are ...</td>\n",
       "      <td>1</td>\n",
       "    </tr>\n",
       "    <tr>\n",
       "      <th>3</th>\n",
       "      <td>6</td>\n",
       "      <td>NaN</td>\n",
       "      <td>NaN</td>\n",
       "      <td>13,000 people receive #wildfires evacuation or...</td>\n",
       "      <td>1</td>\n",
       "    </tr>\n",
       "    <tr>\n",
       "      <th>4</th>\n",
       "      <td>7</td>\n",
       "      <td>NaN</td>\n",
       "      <td>NaN</td>\n",
       "      <td>Just got sent this photo from Ruby #Alaska as ...</td>\n",
       "      <td>1</td>\n",
       "    </tr>\n",
       "  </tbody>\n",
       "</table>\n",
       "</div>"
      ],
      "text/plain": [
       "   id keyword location                                               text  \\\n",
       "0   1     NaN      NaN  Our Deeds are the Reason of this #earthquake M...   \n",
       "1   4     NaN      NaN             Forest fire near La Ronge Sask. Canada   \n",
       "2   5     NaN      NaN  All residents asked to 'shelter in place' are ...   \n",
       "3   6     NaN      NaN  13,000 people receive #wildfires evacuation or...   \n",
       "4   7     NaN      NaN  Just got sent this photo from Ruby #Alaska as ...   \n",
       "\n",
       "   target  \n",
       "0       1  \n",
       "1       1  \n",
       "2       1  \n",
       "3       1  \n",
       "4       1  "
      ]
     },
     "execution_count": 4,
     "metadata": {},
     "output_type": "execute_result"
    }
   ],
   "source": [
    "#Observing the dataframe structure\n",
    "tweets.head()"
   ]
  },
  {
   "cell_type": "code",
   "execution_count": 5,
   "metadata": {},
   "outputs": [],
   "source": [
    "tweets['keyword'].unique();\n",
    "tweets['location'].unique();"
   ]
  },
  {
   "cell_type": "code",
   "execution_count": 49,
   "metadata": {},
   "outputs": [
    {
     "name": "stdout",
     "output_type": "stream",
     "text": [
      "This is a preview of the first 10 tweets, all of which correspond to real disasters:\n",
      "      \n",
      "0. our deeds are the reason of this earthquake may allah forgive us all\n",
      "1. forest fire near la ronge sask. canada\n",
      "2. all residents asked to shelter in place are being notified by officers. no other evacuation or shelter in place orders are expected\n",
      "3. 13000 people receive wildfires evacuation orders in california \n",
      "4. just got sent this photo from ruby alaska as smoke from wildfires pours into a school \n",
      "5. rockyfire update    california hwy. 20 closed in both directions due to lake county fire   cafire wildfires\n",
      "6. flood disaster heavy rain causes flash flooding of streets in manitou  colorado springs areas\n",
      "7. i am on top of the hill and i can see a fire in the woods.\n",
      "8. there is an emergency evacuation happening now in the building across the street\n",
      "9. i am afraid that the tornado is coming to our area.\n",
      "10. three people died from the heat wave so far\n",
      "11. haha south tampa is getting flooded hah  wait a second i live in south tampa what am i gonna do what am i gonna do fvck flooding\n",
      "12. raining flooding florida tampabay tampa 18 or 19 days. i've lost count \n",
      "13. flood in bago myanmar we arrived bago\n",
      "14. damage to school bus on 80 in multi car crash breaking \n",
      "15. what is up man.\n",
      "16. i love fruits\n",
      "17. summer is lovely\n",
      "18. my car is so fast\n",
      "19. what a goooooooaaaaaal.\n"
     ]
    }
   ],
   "source": [
    "#Previewing some tweets\n",
    "print('''This is a preview of the first 10 tweets, all of which correspond to real disasters:\n",
    "      ''')\n",
    "for i in range(20):\n",
    "    print(('%d. '+tweets['text'][i]) % i)"
   ]
  },
  {
   "cell_type": "code",
   "execution_count": 45,
   "metadata": {},
   "outputs": [
    {
     "name": "stdout",
     "output_type": "stream",
     "text": [
      "This is a preview of the first 10 tweets all of which correspond to false alarms:\n",
      "      \n",
      "1. what is up man.\n",
      "2. i love fruits\n",
      "3. summer is lovely\n",
      "4. my car is so fast\n",
      "5. what a goooooooaaaaaal.\n",
      "6. this is ridiculous.\n",
      "7. london is cool  \n",
      "8. love skiing\n",
      "9. what a wonderful day.\n",
      "10. lol\n",
      "11. no way.  i can't eat that shit\n",
      "12. was in nyc last week.\n",
      "13. love my girlfriend\n",
      "14. cooool :\n",
      "15. do you like pasta.\n",
      "16. the end.\n",
      "17. we always try to bring the heavy. metal rt   \n",
      "18. crying out for more. set me ablaze\n",
      "19. on plus side look at the sky last night it was ablaze   \n",
      "20.  mufc they've built so much hype around new acquisitions but i doubt they will set the epl ablaze this season.\n",
      "21. ablaze for you lord :d\n",
      "22. check these out:             nsfw\n",
      "23. on the outside you're ablaze and alive but you're dead inside\n",
      "24. had an awesome time visiting the cfc head office the ancop site and ablaze. thanks to tita vida for taking care of us .\n",
      "25. soooo pumped for ablaze . \n",
      "26. i wanted to set chicago ablaze with my preaching. but not my hotel.   \n",
      "27. i gained 3 followers in the last week. you. know your stats and grow with   \n",
      "28. building the perfect tracklist to life leave the streets ablaze\n",
      "29. check these out:             nsfw\n",
      "30. first night with retainers in. it is quite weird. better get used to it  i have to wear them every single night for the next year at least.\n"
     ]
    }
   ],
   "source": [
    "print('''This is a preview of the first 10 tweets all of which correspond to false alarms:\n",
    "      ''')\n",
    "\n",
    "counter = 1\n",
    "for txt in tweets[tweets['target']==0]['text'][0:30]:\n",
    "    print(('%d. '+txt) % counter)\n",
    "    counter += 1\n"
   ]
  },
  {
   "cell_type": "markdown",
   "metadata": {},
   "source": [
    "### Observations about the text:\n",
    "\n",
    "The text is likely to contain typos or misspellings as can be seen with the word *gooooooaaaaaaal*. The vocabulary we construct will be unlikely to contain such words due to their infrequency.\n",
    "\n",
    "Tweeters often use # (hashtags) to indicate an important or relevant topic. This would likely be removed in standard tokenization, but it might be worth trying to retain the hashtag as they are words the tweeter wants to highlight. **Consider adding another column to the dataframe that only includes hashtags**\n",
    "\n",
    "### Visualising occurences of keywords and locations\n",
    "\n",
    "As we see, the most common word is *fatalities* with 45 counts (NaN excluded). The least used keyword is *radiation emergency* with 9 counts. However, for the keywords column the data has a very small gradient, with many keywords appearing a similar number of times.\n",
    "\n",
    "The most frequent location of tweets are *USA* for country and *New York* for cities. Interestingly, *London* comes in at 2nd in the list of cities, but *UK* comes in 3rd place for countries."
   ]
  },
  {
   "cell_type": "code",
   "execution_count": 50,
   "metadata": {},
   "outputs": [
    {
     "data": {
      "image/png": "[encoded data removed]",
      "text/plain": [
       "<Figure size 1584x288 with 1 Axes>"
      ]
     },
     "metadata": {
      "needs_background": "light"
     },
     "output_type": "display_data"
    }
   ],
   "source": [
    "top_counts = [tweets['keyword'].value_counts()[i] for i in range(20)]\n",
    "top_words = tweets['keyword'].value_counts().index.tolist()[0:20]\n",
    "\n",
    "\n",
    "\n",
    "\n",
    "fig = plt.figure(figsize=(22,4))\n",
    "plt.bar([i for i in range(20)],top_counts,width=0.7)\n",
    "plt.xticks([i for i in range(20)],top_words,rotation=50)\n",
    "plt.ylabel('Frequency')\n",
    "plt.title('Frequency of certain keywords in the training corpus')\n",
    "plt.show()"
   ]
  },
  {
   "cell_type": "code",
   "execution_count": 51,
   "metadata": {},
   "outputs": [
    {
     "data": {
      "text/plain": [
       "radiation%20emergency    9\n",
       "Name: keyword, dtype: int64"
      ]
     },
     "execution_count": 51,
     "metadata": {},
     "output_type": "execute_result"
    }
   ],
   "source": [
    "tweets['keyword'].value_counts()[0:2];\n",
    "tweets['keyword'].value_counts()[220:221]"
   ]
  },
  {
   "cell_type": "code",
   "execution_count": 52,
   "metadata": {
    "scrolled": false
   },
   "outputs": [
    {
     "data": {
      "image/png": "[encoded data removed]",
      "text/plain": [
       "<Figure size 1584x288 with 1 Axes>"
      ]
     },
     "metadata": {
      "needs_background": "light"
     },
     "output_type": "display_data"
    }
   ],
   "source": [
    "top_loc_counts = [tweets['location'].value_counts()[i] for i in range(20)]\n",
    "top_locs = tweets['location'].value_counts().index.tolist()[0:20]\n",
    "\n",
    "fig = plt.figure(figsize=(22,4))\n",
    "plt.bar([i for i in range(20)],top_loc_counts,width=0.7)\n",
    "plt.xticks([i for i in range(20)],top_locs,rotation=50)\n",
    "plt.ylabel('Frequency')\n",
    "plt.title('Frequency of certain keywords in the training corpus')\n",
    "plt.show()"
   ]
  },
  {
   "cell_type": "code",
   "execution_count": 53,
   "metadata": {},
   "outputs": [
    {
     "data": {
      "text/plain": [
       "3342"
      ]
     },
     "execution_count": 53,
     "metadata": {},
     "output_type": "execute_result"
    }
   ],
   "source": [
    "len(tweets['location'].unique())"
   ]
  },
  {
   "cell_type": "markdown",
   "metadata": {},
   "source": [
    "## Cleaning the text data using the Regular Expressions (re) library and strings\n"
   ]
  },
  {
   "cell_type": "code",
   "execution_count": 54,
   "metadata": {},
   "outputs": [],
   "source": [
    "import re\n",
    "\n",
    "def clean_tweet(text):\n",
    "    # encode tweets as utf-8 strings\n",
    "#     text = text.decode('utf-8')\n",
    "    # remove commas in numbers (else vectorizer will split on them)\n",
    "    text = re.sub(r',([0-9])', '\\\\1', text)\n",
    "    # sort out HMTL formatting of &\n",
    "    text = re.sub(r'&amp', 'and', text)\n",
    "    #make sure there is a space after full stop\n",
    "    text = re.sub(r'(\\w)\\.(\\w)','\\\\1.  \\\\2',text) ### seems to have decreased accuracy\n",
    "    #remove co links\n",
    "    text = re.sub(r'co/\\w{6,12}','',text)\n",
    "    #remove initial quotation marks\n",
    "    text = re.sub(r'\\s(\\'|\")',' ',text)\n",
    "    #remove final quotation marks\n",
    "    text = re.sub(r'(\\'|\")\\s',' ',text)\n",
    "    #replace contractions with is\n",
    "    text = re.sub(r'\\'s',' is',text)\n",
    "    #remove hashtags\n",
    "    text = re.sub(r'#','',text)\n",
    "    #replace exclamation marks and question marks with full stop\n",
    "    text = re.sub(r'[!?]+','.',text)\n",
    "    #replace repetitions of full stops with just a singular one\n",
    "    text = re.sub(r'\\.+','.',text)\n",
    "    #lower case\n",
    "    text = text.lower()\n",
    "    #remove twitter handles\n",
    "    text = re.sub(r'@[\\w_]{1,15}','',text) #increases unigram model accuracy, decreases bigram model accuracy\n",
    "    #remove brackets\n",
    "    text = re.sub(r'(\\(|\\))','',text)\n",
    "    #lol and variants, as it is likely a strong signifier that the tweet doesn't correspond to a disaster\n",
    "    text = re.sub(r'lo+l','lol',text)\n",
    "    #remove contractions\n",
    "    text = re.sub(r'i\\'m','i am',text)\n",
    "    #remove colons as I will keep them after for times\n",
    "#     text = re.sub(r':\\s+','',text)\n",
    "    #remove dates and replace with text 'date'\n",
    "#     text = re.sub(r'(\\d\\d?)(/|-)(\\d\\d?)(/|-)(\\d\\d\\d\\d)','$5',text)\n",
    "    # strip urls\n",
    "    return re.sub(r'http[s]{0,1}://[^\\s]*', '', text)\n",
    "\n",
    "tweets['text'] = tweets['text'].map(clean_tweet)"
   ]
  },
  {
   "cell_type": "code",
   "execution_count": 55,
   "metadata": {},
   "outputs": [],
   "source": [
    "#temporary whitelist before using the re library, returns tweets with only the permitted characters and lowercase\n",
    "import string\n",
    "\n",
    "def whitelisted(text):\n",
    "    whitelist = string.ascii_letters + string.digits + ' ' + '\\'' + '.' + ':' + '$£' #last two for time and money\n",
    "    new_str = ''\n",
    "    for char in text:\n",
    "        if char in whitelist:\n",
    "            new_str += char\n",
    "        else:\n",
    "            new_str += ' '\n",
    "    \n",
    "    return new_str.lower()\n",
    "\n",
    "tweets['text'] = tweets['text'].map(whitelisted)"
   ]
  },
  {
   "cell_type": "markdown",
   "metadata": {},
   "source": [
    "## Basic word analysis\n",
    "\n",
    "Questions to answer: How many words on average does a tweet have, What are the most common words, What is the word distribution for the 100 most common words, Word Cloud?\n",
    "\n",
    "Importantly, we should also know how these keywords correlate with the target label. For example, is the word 'blast' found more often in non-emergency tweets than emergency tweets? What we would find from this is the class imbalance. If a word was involved in a disaster 80% of the time, then a basic model could get a high recall by always associating that word with a disaster target label. However, as it would throw up a lot of false positives, it would have low precision.\n",
    "\n",
    "There are 222 keywords, including NaN, so we will only plot the top and bottom 20 ratios, as well as those middling ones."
   ]
  },
  {
   "cell_type": "code",
   "execution_count": 56,
   "metadata": {
    "scrolled": false
   },
   "outputs": [],
   "source": [
    "#Analysing class imbalance for all relevant keywords\n",
    "\n",
    "keywords = tweets['keyword'].unique()\n",
    "keyword_target_fraction = {keyword: (tweets[tweets['keyword']== keyword]['target'].sum()/len(tweets[tweets['keyword']== keyword])) for keyword in keywords}\n",
    "keyword_target_fraction;\n",
    "\n",
    "#Need to sort the keyword_target_fraction dictionary by ratio. \n",
    "keyword_target_fraction_list = [[k, v] for (k,v) in keyword_target_fraction.items()]\n",
    "\n",
    "keyword_target_fraction_list.sort(key=lambda x: x[1])\n",
    "\n",
    "#remove the NaN row\n",
    "key_target_fractions = keyword_target_fraction_list[1:]\n",
    "\n",
    "#showing the list\n",
    "key_target_fractions;"
   ]
  },
  {
   "cell_type": "code",
   "execution_count": 57,
   "metadata": {
    "scrolled": false,
    "tags": [
     "hide_input"
    ]
   },
   "outputs": [
    {
     "data": {
      "image/png": "[encoded data removed]",
      "text/plain": [
       "<Figure size 1872x1728 with 3 Axes>"
      ]
     },
     "metadata": {
      "needs_background": "light"
     },
     "output_type": "display_data"
    }
   ],
   "source": [
    "#Plotting the fraction of real disasters for each keyword\n",
    "bottom_20 = np.array(key_target_fractions)[:,1:][0:20].flatten().astype(float)\n",
    "top_20 = np.array(key_target_fractions)[:,1:][-20:].flatten().astype(float)\n",
    "middle_20 = np.array(key_target_fractions)[:,1:][100:120].flatten().astype(float)\n",
    "\n",
    "#Some names need to be cleaned due to formatting\n",
    "bottom_20_names = np.array(key_target_fractions)[:,0:1][0:20].flatten()\n",
    "bottom_20_names = [name.replace('%20',' ') for name in bottom_20_names]\n",
    "\n",
    "top_20_names =  np.array(key_target_fractions)[:,0:1][-20:].flatten()\n",
    "top_20_names = [name.replace('%20',' ') for name in top_20_names]\n",
    "\n",
    "middle_20_names =  np.array(key_target_fractions)[:,0:1][100:120].flatten()\n",
    "middle_20_names = [name.replace('%20',' ') for name in middle_20_names]\n",
    "\n",
    "\n",
    "fig, ax = plt.subplots(figsize=(26,24), nrows = 3)\n",
    "\n",
    "ax[0].bar([i for i in range(20)],bottom_20,color='orangered')\n",
    "ax[0].set_xticks([i for i in range(20)])\n",
    "ax[0].set_xticklabels(bottom_20_names,rotation=40,fontsize=12)\n",
    "ax[0].set_yticks([0,0.5,1])\n",
    "ax[0].set_yticklabels([0,0.05,0.1])\n",
    "ax[0].set_ylabel('Percentage of tweets corresponding to real disaster',fontsize = 14)\n",
    "#ax[0].set_xlabel('Keyword associated to Tweet',fontsize = 14)\n",
    "ax[0].set_xlim([0.5,19.5])\n",
    "\n",
    "ax[2].bar([i for i in range(20)],top_20,color='dodgerblue')\n",
    "ax[2].set_xticks([i for i in range(20)])\n",
    "ax[2].set_xticklabels(top_20_names,rotation=40,fontsize=12)\n",
    "ax[2].set_yticks([0,0.5,1])\n",
    "ax[2].set_yticklabels([0,0.5,1])\n",
    "ax[2].set_ylabel('Percentage of tweets corresponding to real disaster',fontsize = 14)\n",
    "ax[2].set_xlabel('Keyword associated to Tweet',fontsize = 14)\n",
    "ax[2].set_xlim([0.5,19.5])\n",
    "\n",
    "ax[1].bar([i for i in range(20)],middle_20,alpha=0.8,color='darkorange')\n",
    "ax[1].set_xticks([i for i in range(20)])\n",
    "ax[1].set_xticklabels(middle_20_names,rotation=40,fontsize=12)\n",
    "ax[1].set_yticks([0,0.5,1])\n",
    "ax[1].set_yticklabels([0,0.5,1])\n",
    "ax[1].set_ylabel('Percentage of tweets corresponding to real disaster',fontsize = 14)\n",
    "#ax[1].set_xlabel('Keyword associated to Tweet',fontsize = 14)\n",
    "ax[1].set_xlim([0.5,19.5])\n",
    "plt.show()"
   ]
  },
  {
   "cell_type": "code",
   "execution_count": 58,
   "metadata": {},
   "outputs": [],
   "source": [
    "#Plot the tweet length distribution"
   ]
  },
  {
   "cell_type": "markdown",
   "metadata": {},
   "source": [
    "**Observations**\n",
    "\n",
    "- There are a few surprises hidden here. For example, most uses of the phrase 'body bag' do not correspond to an instance of a disaster. This is quite odd, as the other words in the bottom 20 can at least be used in other examples. My experience suggests it is rare to see body bags outside of a disaster setting.\n",
    "\n",
    "- All phrases in the top 20 suggest real disasters and are therefore heavily imbalanced. Interestingly, typhoon has a very strong correlation with a real disaster, whereas the closely related word whirlwind, seemingly has a much smaller association with disasters.\n",
    "\n",
    "Lets peer into these examples some more."
   ]
  },
  {
   "cell_type": "code",
   "execution_count": 59,
   "metadata": {},
   "outputs": [
    {
     "name": "stdout",
     "output_type": "stream",
     "text": [
      "  when you call to report dangerous activity tell em to have body bags on arrival.\n",
      "\n",
      "micom 2015 summer contrast candy color bowknot cross body tote shoulder bags for womengirls with micom zip po   \n",
      "\n",
      "hobo hobo vintage shira convertible b    $238.  00 bestseller   \n",
      "\n",
      "child shoulder bags pvc shoulder book bag cartoon cross body bags for girls      \n",
      "\n",
      "womens buckle casual stylish shoulder handbags pockets cross body bags green   \n",
      "\n",
      "ain't no bags in the trunk it is a body\n",
      "\n",
      "bestseller. fossil dawson mini cross body bag es    $98.  00   \n",
      "\n",
      "    appears to already be arriving in ridah in body bags.\n",
      "\n",
      "the body bags has a show on 08 07 2015 at 07:30 pm   tremont music hall in charlotte nc    concert\n",
      "\n",
      "body bags.   \n",
      "\n",
      "you know you hate your body when you buy 2 bags of chips and a variety pack of fruit snacks and a redbull as a snack\n",
      "\n"
     ]
    }
   ],
   "source": [
    "#Printing 10 tweets associated to the body bags keyword\n",
    "\n",
    "def tweets_for_keyword(n_tweets,keyword):\n",
    "    \"\"\"\n",
    "    n_tweets: int, number of tweets to be printed\n",
    "    keyword: string, must be a string from the tweets dataframe\n",
    "    \"\"\"\n",
    "    count = n_tweets\n",
    "    for tweet in tweets['text'][tweets['keyword'] == keyword]:\n",
    "        print(tweet + '\\n')\n",
    "        count += -1\n",
    "        if count < 0:\n",
    "            break\n",
    "\n",
    "tweets_for_keyword(10,'body%20bags')"
   ]
  },
  {
   "cell_type": "markdown",
   "metadata": {},
   "source": [
    "**Observation**\n",
    "\n",
    "What we see is that many instances of the words 'body' and 'bag' appearing together, are often to do with fashion or the words are separated.\n",
    "\n",
    "### Further cleaning the data\n",
    "\n",
    "As we can see in some of the prior examples, dates as well as prices appear. We will remove dates and prices, though an interesting thing to look at would be the appearance of prices in tweets and their target label. I suspect no prices appear in real disaster tweets, which would remove many cases."
   ]
  },
  {
   "cell_type": "markdown",
   "metadata": {},
   "source": [
    "### Word tokenization, lemmatization, removal of stop words and part of speech tagging\n",
    "\n",
    "Need to remove unwanted punctuation"
   ]
  },
  {
   "cell_type": "code",
   "execution_count": 60,
   "metadata": {
    "scrolled": true
   },
   "outputs": [],
   "source": [
    "def tokenizer(df,):\n",
    "    \"\"\"\n",
    "    df: pandas dataframe. Data type must be string format.\n",
    "    \"\"\"\n",
    "    tokenized_list = []\n",
    "    for text in df:\n",
    "        tokenized_list.append(word_tokenize(text))\n",
    "    \n",
    "    return tokenized_list\n",
    "\n"
   ]
  },
  {
   "cell_type": "code",
   "execution_count": 61,
   "metadata": {},
   "outputs": [],
   "source": [
    "#coming up with a less harsh custom stop words list by eliminating some from stop_words\n",
    "custom_stop = ['i','me','my','myself','we','our','ours','ourselves','you',\"you're\",\"you've\",\"you'll\",\"you'd\",'your',\n",
    "'yours','yourself','yourselves','he','him','his','himself','she',\"she's\",'her','hers','herself','it',\"it's\",'its',\n",
    "'itself','they','them','their','theirs','themselves','whom','this','that',\"that'll\",'these','those','am','is','are',\n",
    "'was','were','be','been','being','have','has','had','having','do','does','did','doing','a','an','the','and','but',\n",
    "'if','or','because','as','of','with','about','into','to','from','up','in','out','on','off','further',\n",
    "'then','once','there','any','both','each','other','some','such','no','nor','not','only','own','same','so','than',\n",
    "'too','can','will','just','don',\"don't\",'should',\"should've\",'now','ain','aren',\"aren't\",'couldn',\"couldn't\",'didn',\n",
    "\"didn't\",'doesn',\"doesn't\",'hadn',\"hadn't\",'hasn',\"hasn't\",'haven',\"haven't\",'isn',\"isn't\",'ma','mightn',\"mightn't\",'mustn',\n",
    "\"mustn't\",'needn',\"needn't\",'shan',\"shan't\",'shouldn',\"shouldn't\",'wasn',\"wasn't\",'weren',\"weren't\",\"won't\",'wouldn',\n",
    "\"wouldn't\"]\n",
    "\n",
    "\n",
    "#tokenize and remove stop words\n",
    "def stop_word_tokenize(tweet_list,stops):\n",
    "    tokenized_stop_removed = []\n",
    "    temp_list = []\n",
    "    for sublist in tweet_list:\n",
    "        temp_list = word_tokenize(sublist)\n",
    "        temp_list = [word for word in temp_list if not word in stops]\n",
    "        tokenized_stop_removed.append(temp_list)\n",
    "    return tokenized_stop_removed"
   ]
  },
  {
   "cell_type": "code",
   "execution_count": 62,
   "metadata": {},
   "outputs": [],
   "source": [
    "def wordnet_pos(word):\n",
    "    #Function to convert NLTK part-of-speech to one usable by WordNetLemmatizer\n",
    "    pos = pos_tag([word])[0][1][0].lower() #first letter of the second entry of a double in a list.\n",
    "    tag_dict = {'n':wordnet.NOUN,\n",
    "               'v':wordnet.VERB,\n",
    "               'r':wordnet.ADV,\n",
    "               'j':wordnet.ADJ}\n",
    "    \n",
    "    if pos in tag_dict:\n",
    "        return tag_dict[pos]\n",
    "    else:\n",
    "        return wordnet.NOUN"
   ]
  },
  {
   "cell_type": "code",
   "execution_count": 63,
   "metadata": {},
   "outputs": [],
   "source": [
    "def lemmatize_tweets(tokenized_tweets):\n",
    "    lemmatizer = WordNetLemmatizer()\n",
    "    lemmatized_tweets = []\n",
    "    lemmatized_sentence = []\n",
    "    for tweet in tokenized_tweets:\n",
    "        for word in tweet:\n",
    "            lemmatized_sentence.append( lemmatizer.lemmatize(word,wordnet_pos(word)) )\n",
    "            \n",
    "        lemmatized_tweets.append(lemmatized_sentence)\n",
    "        #clear the memory\n",
    "        lemmatized_sentence = []\n",
    "\n",
    "    return lemmatized_tweets"
   ]
  },
  {
   "cell_type": "code",
   "execution_count": 64,
   "metadata": {},
   "outputs": [],
   "source": [
    "lemmatized_tweets = lemmatize_tweets(tokenizer(tweets['text']))\n",
    "tweets['lemmatized_text'] = lemmatized_tweets"
   ]
  },
  {
   "cell_type": "code",
   "execution_count": 66,
   "metadata": {},
   "outputs": [
    {
     "name": "stdout",
     "output_type": "stream",
     "text": [
      "['forest', 'fire', 'near', 'la', 'ronge', 'sask', '.', 'canada']\n",
      "['all', 'resident', 'ask', 'to', 'shelter', 'in', 'place', 'be', 'be', 'notify', 'by', 'officer', '.', 'no', 'other', 'evacuation', 'or', 'shelter', 'in', 'place', 'order', 'be', 'expect']\n",
      "['13000', 'people', 'receive', 'wildfire', 'evacuation', 'order', 'in', 'california']\n",
      "['just', 'get', 'sent', 'this', 'photo', 'from', 'ruby', 'alaska', 'a', 'smoke', 'from', 'wildfire', 'pours', 'into', 'a', 'school']\n",
      "['rockyfire', 'update', 'california', 'hwy', '.', '20', 'close', 'in', 'both', 'direction', 'due', 'to', 'lake', 'county', 'fire', 'cafire', 'wildfire']\n",
      "['flood', 'disaster', 'heavy', 'rain', 'cause', 'flash', 'flood', 'of', 'street', 'in', 'manitou', 'colorado', 'spring', 'area']\n",
      "['i', 'be', 'on', 'top', 'of', 'the', 'hill', 'and', 'i', 'can', 'see', 'a', 'fire', 'in', 'the', 'wood', '.']\n",
      "['there', 'be', 'an', 'emergency', 'evacuation', 'happen', 'now', 'in', 'the', 'building', 'across', 'the', 'street']\n",
      "['i', 'be', 'afraid', 'that', 'the', 'tornado', 'be', 'come', 'to', 'our', 'area', '.']\n",
      "['three', 'people', 'die', 'from', 'the', 'heat', 'wave', 'so', 'far']\n",
      "['haha', 'south', 'tampa', 'be', 'get', 'flood', 'hah', 'wait', 'a', 'second', 'i', 'live', 'in', 'south', 'tampa', 'what', 'be', 'i', 'gon', 'na', 'do', 'what', 'be', 'i', 'gon', 'na', 'do', 'fvck', 'flood']\n",
      "['rain', 'flood', 'florida', 'tampabay', 'tampa', '18', 'or', '19', 'day', '.', 'i', \"'ve\", 'lose', 'count']\n",
      "['flood', 'in', 'bago', 'myanmar', 'we', 'arrive', 'bago']\n",
      "['damage', 'to', 'school', 'bus', 'on', '80', 'in', 'multi', 'car', 'crash', 'break']\n",
      "['what', 'be', 'up', 'man', '.']\n",
      "['i', 'love', 'fruit']\n",
      "['summer', 'be', 'lovely']\n",
      "['my', 'car', 'be', 'so', 'fast']\n",
      "['what', 'a', 'goooooooaaaaaal', '.']\n"
     ]
    }
   ],
   "source": [
    "count = 1\n",
    "while count < 20:\n",
    "    print(tweets['lemmatized_text'][count])\n",
    "    count+=1"
   ]
  },
  {
   "cell_type": "markdown",
   "metadata": {},
   "source": [
    "## Creating a Naive Bayes Multinomial Model\n",
    "\n",
    "Note: I will first create a model with non-completely clean text. This will decrease the performance of the model. However, I will then go back and clean the text data which should improve the model."
   ]
  },
  {
   "cell_type": "code",
   "execution_count": 26,
   "metadata": {},
   "outputs": [],
   "source": [
    "# disaster_tok_stop = stop_word_tokenize(disaster_tweets['text'],custom_stop)\n",
    "# non_disaster_tok_stop = stop_word_tokenize(non_disaster_tweets['text'],custom_stop)"
   ]
  },
  {
   "cell_type": "code",
   "execution_count": 29,
   "metadata": {},
   "outputs": [],
   "source": [
    "#tweets corresponding to disasters and convert to nested list\n",
    "disaster_tweets = tweets[['text','target']][tweets['target'] == 1]\n",
    "\n",
    "#The CountVectorizer transform takes in raw text and therefore doesn't need to be tokenized\n",
    "disaster_list = [tweet for tweet in disaster_tweets['text']]\n",
    "disaster_tokenized = tokenizer(disaster_tweets['text'])\n",
    "\n",
    "num_dis = len(disaster_tweets) #change back to tokenized only\n",
    "\n",
    "\n",
    "#tweets not corresponding to disasters and convert to nested list\n",
    "non_disaster_tweets = tweets[['text','target']][tweets['target'] == 0]\n",
    "non_disaster_list = [tweet for tweet in non_disaster_tweets['text']]\n",
    "non_disaster_tokenized = tokenizer(non_disaster_tweets['text'])\n",
    "num_non_dis = len(non_disaster_tweets) #change back to tokenized only\n",
    "\n",
    "### BEST ACCURACY ACHIEVED FOR A TEST SIZE OF 0.3 WITH THE UNIGRAM MODEL. SECOND BEST IS 0.35 BIGRAM ###\n",
    "\n",
    "\n",
    "#Splitting the data into training and validation sets\n",
    "X_train, X_val, y_train, y_val = train_test_split(tweets['text'], tweets['target'], test_size=0.3, random_state=42)\n",
    "\n",
    "#Splitting the disaster and non_disaster lists of tweets separately\n",
    "#change back to non_disaster_tokenized and disaster_tokenized if accuracy decreases beyond 80%\n",
    "d_train, d_val, yd_train, yd_val = train_test_split(disaster_tokenized, ([1] * num_dis), test_size = 0.3, random_state = 42)\n",
    "\n",
    "nd_train, nd_val, ynd_train, ynd_val = train_test_split(non_disaster_tokenized, ([0] * num_non_dis), test_size = 0.35, random_state = 42)\n",
    "\n"
   ]
  },
  {
   "cell_type": "code",
   "execution_count": 114,
   "metadata": {},
   "outputs": [
    {
     "ename": "AttributeError",
     "evalue": "'list' object has no attribute 'lower'",
     "output_type": "error",
     "traceback": [
      "\u001b[0;31m---------------------------------------------------------------------------\u001b[0m",
      "\u001b[0;31mAttributeError\u001b[0m                            Traceback (most recent call last)",
      "\u001b[0;32m<ipython-input-114-8692648b0f05>\u001b[0m in \u001b[0;36m<module>\u001b[0;34m\u001b[0m\n\u001b[1;32m     11\u001b[0m \u001b[0mvec\u001b[0m\u001b[0;34m.\u001b[0m\u001b[0mfit\u001b[0m\u001b[0;34m(\u001b[0m\u001b[0mlemmatized_vocab\u001b[0m\u001b[0;34m)\u001b[0m\u001b[0;34m\u001b[0m\u001b[0;34m\u001b[0m\u001b[0m\n\u001b[1;32m     12\u001b[0m \u001b[0;34m\u001b[0m\u001b[0m\n\u001b[0;32m---> 13\u001b[0;31m \u001b[0muni_train_counts\u001b[0m \u001b[0;34m=\u001b[0m \u001b[0mvec\u001b[0m\u001b[0;34m.\u001b[0m\u001b[0mtransform\u001b[0m\u001b[0;34m(\u001b[0m\u001b[0mXl_train\u001b[0m\u001b[0;34m.\u001b[0m\u001b[0mtolist\u001b[0m\u001b[0;34m(\u001b[0m\u001b[0;34m)\u001b[0m\u001b[0;34m)\u001b[0m\u001b[0;34m\u001b[0m\u001b[0;34m\u001b[0m\u001b[0m\n\u001b[0m\u001b[1;32m     14\u001b[0m \u001b[0muni_val_counts\u001b[0m \u001b[0;34m=\u001b[0m \u001b[0mvec\u001b[0m\u001b[0;34m.\u001b[0m\u001b[0mtransform\u001b[0m\u001b[0;34m(\u001b[0m\u001b[0mXl_val\u001b[0m\u001b[0;34m.\u001b[0m\u001b[0mtolist\u001b[0m\u001b[0;34m(\u001b[0m\u001b[0;34m)\u001b[0m\u001b[0;34m)\u001b[0m\u001b[0;34m\u001b[0m\u001b[0;34m\u001b[0m\u001b[0m\n\u001b[1;32m     15\u001b[0m \u001b[0;34m\u001b[0m\u001b[0m\n",
      "\u001b[0;32m~/anaconda3/envs/tf/lib/python3.7/site-packages/sklearn/feature_extraction/text.py\u001b[0m in \u001b[0;36mtransform\u001b[0;34m(self, raw_documents)\u001b[0m\n\u001b[1;32m   1268\u001b[0m \u001b[0;34m\u001b[0m\u001b[0m\n\u001b[1;32m   1269\u001b[0m         \u001b[0;31m# use the same matrix-building strategy as fit_transform\u001b[0m\u001b[0;34m\u001b[0m\u001b[0;34m\u001b[0m\u001b[0;34m\u001b[0m\u001b[0m\n\u001b[0;32m-> 1270\u001b[0;31m         \u001b[0m_\u001b[0m\u001b[0;34m,\u001b[0m \u001b[0mX\u001b[0m \u001b[0;34m=\u001b[0m \u001b[0mself\u001b[0m\u001b[0;34m.\u001b[0m\u001b[0m_count_vocab\u001b[0m\u001b[0;34m(\u001b[0m\u001b[0mraw_documents\u001b[0m\u001b[0;34m,\u001b[0m \u001b[0mfixed_vocab\u001b[0m\u001b[0;34m=\u001b[0m\u001b[0;32mTrue\u001b[0m\u001b[0;34m)\u001b[0m\u001b[0;34m\u001b[0m\u001b[0;34m\u001b[0m\u001b[0m\n\u001b[0m\u001b[1;32m   1271\u001b[0m         \u001b[0;32mif\u001b[0m \u001b[0mself\u001b[0m\u001b[0;34m.\u001b[0m\u001b[0mbinary\u001b[0m\u001b[0;34m:\u001b[0m\u001b[0;34m\u001b[0m\u001b[0;34m\u001b[0m\u001b[0m\n\u001b[1;32m   1272\u001b[0m             \u001b[0mX\u001b[0m\u001b[0;34m.\u001b[0m\u001b[0mdata\u001b[0m\u001b[0;34m.\u001b[0m\u001b[0mfill\u001b[0m\u001b[0;34m(\u001b[0m\u001b[0;36m1\u001b[0m\u001b[0;34m)\u001b[0m\u001b[0;34m\u001b[0m\u001b[0;34m\u001b[0m\u001b[0m\n",
      "\u001b[0;32m~/anaconda3/envs/tf/lib/python3.7/site-packages/sklearn/feature_extraction/text.py\u001b[0m in \u001b[0;36m_count_vocab\u001b[0;34m(self, raw_documents, fixed_vocab)\u001b[0m\n\u001b[1;32m   1129\u001b[0m         \u001b[0;32mfor\u001b[0m \u001b[0mdoc\u001b[0m \u001b[0;32min\u001b[0m \u001b[0mraw_documents\u001b[0m\u001b[0;34m:\u001b[0m\u001b[0;34m\u001b[0m\u001b[0;34m\u001b[0m\u001b[0m\n\u001b[1;32m   1130\u001b[0m             \u001b[0mfeature_counter\u001b[0m \u001b[0;34m=\u001b[0m \u001b[0;34m{\u001b[0m\u001b[0;34m}\u001b[0m\u001b[0;34m\u001b[0m\u001b[0;34m\u001b[0m\u001b[0m\n\u001b[0;32m-> 1131\u001b[0;31m             \u001b[0;32mfor\u001b[0m \u001b[0mfeature\u001b[0m \u001b[0;32min\u001b[0m \u001b[0manalyze\u001b[0m\u001b[0;34m(\u001b[0m\u001b[0mdoc\u001b[0m\u001b[0;34m)\u001b[0m\u001b[0;34m:\u001b[0m\u001b[0;34m\u001b[0m\u001b[0;34m\u001b[0m\u001b[0m\n\u001b[0m\u001b[1;32m   1132\u001b[0m                 \u001b[0;32mtry\u001b[0m\u001b[0;34m:\u001b[0m\u001b[0;34m\u001b[0m\u001b[0;34m\u001b[0m\u001b[0m\n\u001b[1;32m   1133\u001b[0m                     \u001b[0mfeature_idx\u001b[0m \u001b[0;34m=\u001b[0m \u001b[0mvocabulary\u001b[0m\u001b[0;34m[\u001b[0m\u001b[0mfeature\u001b[0m\u001b[0;34m]\u001b[0m\u001b[0;34m\u001b[0m\u001b[0;34m\u001b[0m\u001b[0m\n",
      "\u001b[0;32m~/anaconda3/envs/tf/lib/python3.7/site-packages/sklearn/feature_extraction/text.py\u001b[0m in \u001b[0;36m_analyze\u001b[0;34m(doc, analyzer, tokenizer, ngrams, preprocessor, decoder, stop_words)\u001b[0m\n\u001b[1;32m    101\u001b[0m     \u001b[0;32melse\u001b[0m\u001b[0;34m:\u001b[0m\u001b[0;34m\u001b[0m\u001b[0;34m\u001b[0m\u001b[0m\n\u001b[1;32m    102\u001b[0m         \u001b[0;32mif\u001b[0m \u001b[0mpreprocessor\u001b[0m \u001b[0;32mis\u001b[0m \u001b[0;32mnot\u001b[0m \u001b[0;32mNone\u001b[0m\u001b[0;34m:\u001b[0m\u001b[0;34m\u001b[0m\u001b[0;34m\u001b[0m\u001b[0m\n\u001b[0;32m--> 103\u001b[0;31m             \u001b[0mdoc\u001b[0m \u001b[0;34m=\u001b[0m \u001b[0mpreprocessor\u001b[0m\u001b[0;34m(\u001b[0m\u001b[0mdoc\u001b[0m\u001b[0;34m)\u001b[0m\u001b[0;34m\u001b[0m\u001b[0;34m\u001b[0m\u001b[0m\n\u001b[0m\u001b[1;32m    104\u001b[0m         \u001b[0;32mif\u001b[0m \u001b[0mtokenizer\u001b[0m \u001b[0;32mis\u001b[0m \u001b[0;32mnot\u001b[0m \u001b[0;32mNone\u001b[0m\u001b[0;34m:\u001b[0m\u001b[0;34m\u001b[0m\u001b[0;34m\u001b[0m\u001b[0m\n\u001b[1;32m    105\u001b[0m             \u001b[0mdoc\u001b[0m \u001b[0;34m=\u001b[0m \u001b[0mtokenizer\u001b[0m\u001b[0;34m(\u001b[0m\u001b[0mdoc\u001b[0m\u001b[0;34m)\u001b[0m\u001b[0;34m\u001b[0m\u001b[0;34m\u001b[0m\u001b[0m\n",
      "\u001b[0;32m~/anaconda3/envs/tf/lib/python3.7/site-packages/sklearn/feature_extraction/text.py\u001b[0m in \u001b[0;36m_preprocess\u001b[0;34m(doc, accent_function, lower)\u001b[0m\n\u001b[1;32m     66\u001b[0m     \"\"\"\n\u001b[1;32m     67\u001b[0m     \u001b[0;32mif\u001b[0m \u001b[0mlower\u001b[0m\u001b[0;34m:\u001b[0m\u001b[0;34m\u001b[0m\u001b[0;34m\u001b[0m\u001b[0m\n\u001b[0;32m---> 68\u001b[0;31m         \u001b[0mdoc\u001b[0m \u001b[0;34m=\u001b[0m \u001b[0mdoc\u001b[0m\u001b[0;34m.\u001b[0m\u001b[0mlower\u001b[0m\u001b[0;34m(\u001b[0m\u001b[0;34m)\u001b[0m\u001b[0;34m\u001b[0m\u001b[0;34m\u001b[0m\u001b[0m\n\u001b[0m\u001b[1;32m     69\u001b[0m     \u001b[0;32mif\u001b[0m \u001b[0maccent_function\u001b[0m \u001b[0;32mis\u001b[0m \u001b[0;32mnot\u001b[0m \u001b[0;32mNone\u001b[0m\u001b[0;34m:\u001b[0m\u001b[0;34m\u001b[0m\u001b[0;34m\u001b[0m\u001b[0m\n\u001b[1;32m     70\u001b[0m         \u001b[0mdoc\u001b[0m \u001b[0;34m=\u001b[0m \u001b[0maccent_function\u001b[0m\u001b[0;34m(\u001b[0m\u001b[0mdoc\u001b[0m\u001b[0;34m)\u001b[0m\u001b[0;34m\u001b[0m\u001b[0;34m\u001b[0m\u001b[0m\n",
      "\u001b[0;31mAttributeError\u001b[0m: 'list' object has no attribute 'lower'"
     ]
    }
   ],
   "source": [
    "#lemmatized tweets\n",
    "Xl_train, Xl_val, yl_train, yl_val = train_test_split(tweets['lemmatized_text'], \n",
    "                                                      tweets['target'], test_size=0.3, random_state=42)\n",
    "\n",
    "vec = CountVectorizer()\n",
    "\n",
    "vec_analyse = vec.build_analyzer()\n",
    "\n",
    "lemmatized_vocab = [vec_analyse(word)[0] for text in Xl_train for word in text if vec_analyse(word) != []]\n",
    "\n",
    "vec.fit(lemmatized_vocab)\n",
    "\n",
    "uni_train_counts = vec.transform(Xl_train.tolist())\n",
    "uni_val_counts = vec.transform(Xl_val.tolist())\n",
    "\n",
    "# unigram_classifier = MultinomialNB()\n",
    "\n",
    "# unigram_classifier.fit(uni_train_counts,yl_train)\n",
    "\n",
    "# unigram_classifier.score(uni_val_counts,yl_val)"
   ]
  },
  {
   "cell_type": "code",
   "execution_count": 121,
   "metadata": {},
   "outputs": [
    {
     "name": "stdout",
     "output_type": "stream",
     "text": [
      "On the validation set, the bigram Naive Bayes classifier achieves an accuracy of 80.30 percent\n"
     ]
    }
   ],
   "source": [
    "#Creating a unigram and bigram vectorizer. Vocabulary will be much bigger than bag of words.\n",
    "#ngram_range shape (1,2) suggests including unigrams and bigrams\n",
    "#min_df = minimum document frequency cut-off for word to be included in vocab\n",
    "#token pattern is regular expression\n",
    "bigram_vectorizer = CountVectorizer(ngram_range=(1,2)) #,token_pattern=r'\\b\\w+\\b'\n",
    "\n",
    "#handle tokenization and ngram creation\n",
    "analyse = bigram_vectorizer.build_analyzer()\n",
    "\n",
    "#Initial vocab. Will add location information as an additional bit of vocabulary\n",
    "bigram_training_vocab_nested = [analyse(text) for text in X_train]\n",
    "\n",
    "#flatten training vocab\n",
    "bigram_training_vocab = [phrase for sublist in bigram_training_vocab_nested for phrase in sublist] \n",
    "#force only words not in stop words using \"if not phrase in custom_stop\"\n",
    "\n",
    "#fit the bigram + unigram vocabulary\n",
    "bigram_vectorizer.fit(bigram_training_vocab)\n",
    "\n",
    "#transform the training data\n",
    "bigram_train_counts = bigram_vectorizer.transform(X_train)\n",
    "bigram_val_counts = bigram_vectorizer.transform(X_val)\n",
    "\n",
    "#Create a Multinomial Naive Bayes classifier\n",
    "bigram_classifier = MultinomialNB()\n",
    "\n",
    "#fit the training data\n",
    "bigram_classifier.fit(bigram_train_counts,y_train)\n",
    "\n",
    "#check validation score\n",
    "bigram_score = bigram_classifier.score(bigram_val_counts,y_val)\n",
    "print('On the validation set, the bigram Naive Bayes classifier achieves an accuracy of %.2f percent' % (bigram_score * 100))"
   ]
  },
  {
   "cell_type": "code",
   "execution_count": 31,
   "metadata": {},
   "outputs": [
    {
     "name": "stdout",
     "output_type": "stream",
     "text": [
      "On the validation set, the unigram Naive Bayes classifier achieves an accuracy of 80.65 percent\n"
     ]
    }
   ],
   "source": [
    "#Create an instance of the CountVectorizer\n",
    "counter = CountVectorizer()\n",
    "\n",
    "#flattened list of training vocabulary\n",
    "training_vocab = [item for sublist in (d_train+nd_train) for item in sublist]\n",
    "\n",
    "#create a vocabulary from the training set\n",
    "counter.fit(training_vocab)\n",
    "\n",
    "#transform the training data\n",
    "training_counts = counter.transform(X_train)\n",
    "validation_counts = counter.transform(X_val)\n",
    "\n",
    "#Create an instance of a MultinomialNB classifier\n",
    "nb_classifier = MultinomialNB() #accuracy a bit higher when including fit_prior=False\n",
    "\n",
    "#fit the classifier to the training data\n",
    "nb_classifier.fit(training_counts,y_train)\n",
    "\n",
    "#Score on the validation set\n",
    "score = nb_classifier.score(validation_counts,y_val)\n",
    "print('On the validation set, the unigram Naive Bayes classifier achieves an accuracy of %.2f percent' % (score * 100))\n"
   ]
  },
  {
   "cell_type": "code",
   "execution_count": 32,
   "metadata": {},
   "outputs": [
    {
     "data": {
      "text/plain": [
       "array([[1152,  166],\n",
       "       [ 276,  690]])"
      ]
     },
     "execution_count": 32,
     "metadata": {},
     "output_type": "execute_result"
    }
   ],
   "source": [
    "y_preds = nb_classifier.predict(validation_counts)\n",
    "\n",
    "confusion_matrix(y_val,y_preds)"
   ]
  },
  {
   "cell_type": "code",
   "execution_count": 33,
   "metadata": {},
   "outputs": [
    {
     "data": {
      "text/plain": [
       "<matplotlib.axes._subplots.AxesSubplot at 0x1a1d45c4d0>"
      ]
     },
     "execution_count": 33,
     "metadata": {},
     "output_type": "execute_result"
    },
    {
     "data": {
      "image/png": "[encoded data removed]",
      "text/plain": [
       "<Figure size 432x288 with 2 Axes>"
      ]
     },
     "metadata": {
      "needs_background": "light"
     },
     "output_type": "display_data"
    }
   ],
   "source": [
    "sns.heatmap(confusion_matrix(y_val,y_preds),annot=True,cmap='Blues')"
   ]
  },
  {
   "cell_type": "markdown",
   "metadata": {},
   "source": [
    "### Find the number of false positives and false negatives"
   ]
  },
  {
   "cell_type": "markdown",
   "metadata": {},
   "source": [
    "### Our first attempt got a validation accuracy of 79.78%\n",
    "\n",
    "I will go back and clean the data better, and also make bigram and trigram models. However, it will be interesting to create a few examples and see what the classifier predicts.\n",
    "\n",
    "### New tweet classifier"
   ]
  },
  {
   "cell_type": "code",
   "execution_count": 34,
   "metadata": {},
   "outputs": [],
   "source": [
    "def classify_text(text):\n",
    "    text_counts = counter.transform([text]).toarray()\n",
    "    prediction_probabilities = nb_classifier.predict_proba(text_counts)[0]\n",
    "    classes = ['not a disaster', 'disaster']\n",
    "    \n",
    "    if prediction_probabilities[0] > prediction_probabilities[1]:\n",
    "        classification = classes[0]\n",
    "    else:\n",
    "        classification = classes[1]\n",
    "    \n",
    "    print(\"\"\"Probability it's not a disaster: %.2f \\nProbability it's a disaster: %.2f. \\nClassification: %s\n",
    "    \"\"\" % (prediction_probabilities[0],prediction_probabilities[1],classification) )\n",
    "    \n",
    "    "
   ]
  },
  {
   "cell_type": "code",
   "execution_count": 35,
   "metadata": {
    "scrolled": false
   },
   "outputs": [
    {
     "name": "stdout",
     "output_type": "stream",
     "text": [
      "Probability it's not a disaster: 0.94 \n",
      "Probability it's a disaster: 0.06. \n",
      "Classification: not a disaster\n",
      "    \n",
      "Probability it's not a disaster: 0.72 \n",
      "Probability it's a disaster: 0.28. \n",
      "Classification: not a disaster\n",
      "    \n"
     ]
    }
   ],
   "source": [
    "classify_text('you have a friendly friend in me')\n",
    "\n",
    "classify_text('There is a fire in my bathroom help')"
   ]
  },
  {
   "cell_type": "code",
   "execution_count": 36,
   "metadata": {
    "scrolled": true
   },
   "outputs": [
    {
     "name": "stdout",
     "output_type": "stream",
     "text": [
      "Probability it's not a disaster: 0.84 \n",
      "Probability it's a disaster: 0.16. \n",
      "Classification: not a disaster\n",
      "    \n"
     ]
    }
   ],
   "source": [
    "classify_text('Rick and Sid living together')"
   ]
  },
  {
   "cell_type": "markdown",
   "metadata": {},
   "source": [
    "## Building a Random Forest Classifier Using Location Data and NB_Classifier Probabilities\n",
    "\n",
    "In addition to the text data, we also have location data. However, there are around 3000 different locations included, some corresponding to the same place (for example US, USA, America). To further complicate matters, some locations are just given as cities. Due to time limitations, and diminishing numbers of entries for some locations, I will only bother with the top 10 or so countries and as many variants as I can think of. I may also include 10 major cities and 5 large US states. These will all be one-hot-encoded, in addition to prediction probabilities obtained from the naive Bayes classifier. \n"
   ]
  },
  {
   "cell_type": "code",
   "execution_count": 175,
   "metadata": {},
   "outputs": [
    {
     "data": {
      "text/plain": [
       "USA                          104\n",
       "New York                      71\n",
       "United States                 50\n",
       "London                        45\n",
       "Canada                        29\n",
       "Nigeria                       28\n",
       "UK                            27\n",
       "Los Angeles, CA               26\n",
       "India                         24\n",
       "Mumbai                        22\n",
       "Washington, DC                21\n",
       "Kenya                         20\n",
       "Worldwide                     19\n",
       "Chicago, IL                   18\n",
       "Australia                     18\n",
       "California                    17\n",
       "New York, NY                  15\n",
       "California, USA               15\n",
       "Everywhere                    15\n",
       "Florida                       14\n",
       "San Francisco                 14\n",
       "United Kingdom                14\n",
       "Los Angeles                   13\n",
       "Washington, D.C.              13\n",
       "Indonesia                     13\n",
       "Toronto                       12\n",
       "Ireland                       12\n",
       "NYC                           12\n",
       "Seattle                       11\n",
       "Chicago                       11\n",
       "Earth                         11\n",
       "San Francisco, CA             11\n",
       "Atlanta, GA                   10\n",
       "Texas                         10\n",
       "London, England               10\n",
       "ss                            10\n",
       "New York City                 10\n",
       "London, UK                    10\n",
       "Sacramento, CA                10\n",
       "Nashville, TN                  9\n",
       "World                          9\n",
       "304                            9\n",
       "Denver, Colorado               9\n",
       "Dallas, TX                     9\n",
       "San Diego, CA                  9\n",
       "US                             9\n",
       "Manchester                     9\n",
       "Houston, TX                    8\n",
       "Scotland                       8\n",
       "South Africa                   8\n",
       "Sydney                         7\n",
       "Seattle, WA                    7\n",
       "Pennsylvania, USA              7\n",
       "Austin, TX                     7\n",
       "Tennessee                      7\n",
       "worldwide                      7\n",
       "Denver, CO                     7\n",
       "Memphis, TN                    7\n",
       "Colorado                       6\n",
       "California, United States      6\n",
       "Name: location, dtype: int64"
      ]
     },
     "execution_count": 175,
     "metadata": {},
     "output_type": "execute_result"
    }
   ],
   "source": [
    "#seeing some of the top locations\n",
    "tweets['location'].value_counts()[0:60]"
   ]
  },
  {
   "cell_type": "code",
   "execution_count": 280,
   "metadata": {},
   "outputs": [],
   "source": [
    "#including as many alternative mentions of the same country as possible\n",
    "#can't indlude US in America's list as it appears in too many words for the method we will use \n",
    "america = ['usa','america','united states','united states of america','new york','los angeles','chicago',\n",
    "          'california','washington','san francisco','seattle','nyc','texas','new york city','tx','ga','colorado']\n",
    "britain = ['great britain','uk','united kingdom','london','manchester','birmingham','scotland','wales','england'\n",
    "          ,'northern ireland']\n",
    "india = ['india','mumbai','delhi','bangalore']\n",
    "australia = ['australia','aus','sydney','melbourne','canberra']\n",
    "canada = ['canada','toronto','montreal','vancouver']\n",
    "nigeria = ['nigeria','lagos','kano','ibadan']\n",
    "south_africa = ['south africa','cape town','johannesburg','durban','pretoria']\n",
    "kenya = ['kenya','nairobi','mombasa','njoro']\n",
    "ireland = ['ireland','dublin','cork']\n",
    "\n",
    "#including major cities as an alternative category\n",
    "major_cities = ['new york','nyc','new york city','ny','london','los angeles','toronto','mumbai','houston','seattle'\n",
    "               ,'chicago','sydney','manchester','atlanta','san diego','lagos','melbourne','vancouver','cape town',\n",
    "               'johannesburg','dehli','dublin']\n",
    "\n",
    "#including major us states with sufficient representation / can't include contraction CA as it appears in too many words\n",
    "major_states = ['california','new york','ny','texas','tx','tennessee','tn','georgia','ga','colorado','co',\n",
    "               'washington','wa','dc']\n",
    "\n",
    "#for any location not contained in these lists, they will go into another category labelled other.\n",
    "\n",
    "\n"
   ]
  },
  {
   "cell_type": "code",
   "execution_count": 292,
   "metadata": {},
   "outputs": [],
   "source": [
    "#creating a new dataframe with new binary valued columns corresponding to locations contained in any of the lists\n",
    "tweets_modified = tweets[['location','text','target']]\n",
    "\n",
    "# creating the new columns\n",
    "locations = ['america','britain','india','australia','canada','nigeria','south_africa','kenya',\n",
    "                  'ireland','major_cities','major_states']\n",
    "location_lists = [america,britain,india,australia,canada,nigeria,south_africa,kenya,\n",
    "                  ireland,major_cities,major_states]\n",
    "location_dict = {locations[i]: location_lists[i] for i in range(len(location_lists))}\n",
    "\n",
    "#make the columns empty for now\n",
    "for location in locations:\n",
    "    tweets_modified[location] = 0\n",
    "    \n",
    "    \n",
    "#a function that returns 1 if the location is contained in one of the provided lists, 0 otherwise\n",
    "def location_confirmer(loc,related_places):\n",
    "    #check that the location is not nan\n",
    "    if type(loc)==float:\n",
    "        return 0\n",
    "    else:\n",
    "        #go through all specified related places list and confirm if part of the provided location 'loc' matches this\n",
    "        count = 0\n",
    "        for place in related_places:\n",
    "            #check it this way as some locations can have a mixture of place names\n",
    "            if place in loc.lower():\n",
    "                count += 1\n",
    "            else: \n",
    "                pass\n",
    "\n",
    "        #produce a binary output, 1.0 means the location is in the list of related places\n",
    "        if count > 0:\n",
    "            return 1\n",
    "        else:\n",
    "            return 0\n",
    "\n",
    "#filling in the new columns\n",
    "count = 0\n",
    "for location in location_dict:\n",
    "    location_list = location_dict[location]\n",
    "    tweets_modified[location] = tweets_modified['location'].apply(location_confirmer,args=(location_list,))"
   ]
  },
  {
   "cell_type": "code",
   "execution_count": 288,
   "metadata": {
    "scrolled": false
   },
   "outputs": [],
   "source": [
    "#filling in the new columns\n",
    "count = 0\n",
    "for location in location_dict:\n",
    "    location_list = location_dict[location]\n",
    "    tweets_modified[location] = tweets_modified['location'].apply(location_confirmer,args=(location_list,))\n",
    "    "
   ]
  },
  {
   "cell_type": "code",
   "execution_count": 289,
   "metadata": {},
   "outputs": [],
   "source": [
    "def location_confirmer(loc,related_places):\n",
    "    #check that the location is not nan\n",
    "    if type(loc)==float:\n",
    "        return 0\n",
    "    else:\n",
    "        #go through all specified related places list and confirm if part of the provided location 'loc' matches this\n",
    "        count = 0\n",
    "        for place in related_places:\n",
    "            #check it this way as some locations can have a mixture of place names\n",
    "            if place in loc.lower():\n",
    "                count += 1\n",
    "            else: \n",
    "                pass\n",
    "\n",
    "        #produce a binary output, 1.0 means the location is in the list of related places\n",
    "        if count > 0:\n",
    "            return 1\n",
    "        else:\n",
    "            return 0"
   ]
  },
  {
   "cell_type": "code",
   "execution_count": 293,
   "metadata": {},
   "outputs": [
    {
     "data": {
      "text/html": [
       "<div>\n",
       "<style scoped>\n",
       "    .dataframe tbody tr th:only-of-type {\n",
       "        vertical-align: middle;\n",
       "    }\n",
       "\n",
       "    .dataframe tbody tr th {\n",
       "        vertical-align: top;\n",
       "    }\n",
       "\n",
       "    .dataframe thead th {\n",
       "        text-align: right;\n",
       "    }\n",
       "</style>\n",
       "<table border=\"1\" class=\"dataframe\">\n",
       "  <thead>\n",
       "    <tr style=\"text-align: right;\">\n",
       "      <th></th>\n",
       "      <th>location</th>\n",
       "      <th>text</th>\n",
       "      <th>target</th>\n",
       "      <th>america</th>\n",
       "      <th>britain</th>\n",
       "      <th>india</th>\n",
       "      <th>australia</th>\n",
       "      <th>canada</th>\n",
       "      <th>nigeria</th>\n",
       "      <th>south_africa</th>\n",
       "      <th>kenya</th>\n",
       "      <th>ireland</th>\n",
       "      <th>major_cities</th>\n",
       "      <th>major_states</th>\n",
       "    </tr>\n",
       "  </thead>\n",
       "  <tbody>\n",
       "    <tr>\n",
       "      <th>35</th>\n",
       "      <td>London, UK</td>\n",
       "      <td>on plus side look at the sky last night it was...</td>\n",
       "      <td>0</td>\n",
       "      <td>0</td>\n",
       "      <td>1</td>\n",
       "      <td>0</td>\n",
       "      <td>0</td>\n",
       "      <td>0</td>\n",
       "      <td>0</td>\n",
       "      <td>0</td>\n",
       "      <td>0</td>\n",
       "      <td>0</td>\n",
       "      <td>1</td>\n",
       "      <td>0</td>\n",
       "    </tr>\n",
       "    <tr>\n",
       "      <th>79</th>\n",
       "      <td>Njoro, Kenya</td>\n",
       "      <td>the pastor was not in the scene of the acciden...</td>\n",
       "      <td>1</td>\n",
       "      <td>0</td>\n",
       "      <td>0</td>\n",
       "      <td>0</td>\n",
       "      <td>0</td>\n",
       "      <td>0</td>\n",
       "      <td>0</td>\n",
       "      <td>0</td>\n",
       "      <td>1</td>\n",
       "      <td>0</td>\n",
       "      <td>1</td>\n",
       "      <td>1</td>\n",
       "    </tr>\n",
       "    <tr>\n",
       "      <th>88</th>\n",
       "      <td>Manchester, NH</td>\n",
       "      <td>accident left lane blocked in manchester on rt...</td>\n",
       "      <td>1</td>\n",
       "      <td>0</td>\n",
       "      <td>1</td>\n",
       "      <td>0</td>\n",
       "      <td>0</td>\n",
       "      <td>0</td>\n",
       "      <td>0</td>\n",
       "      <td>0</td>\n",
       "      <td>0</td>\n",
       "      <td>0</td>\n",
       "      <td>1</td>\n",
       "      <td>0</td>\n",
       "    </tr>\n",
       "    <tr>\n",
       "      <th>101</th>\n",
       "      <td>Nairobi, Kenya</td>\n",
       "      <td>i still have not heard church leaders of kenya...</td>\n",
       "      <td>0</td>\n",
       "      <td>0</td>\n",
       "      <td>0</td>\n",
       "      <td>0</td>\n",
       "      <td>0</td>\n",
       "      <td>0</td>\n",
       "      <td>0</td>\n",
       "      <td>0</td>\n",
       "      <td>1</td>\n",
       "      <td>0</td>\n",
       "      <td>1</td>\n",
       "      <td>1</td>\n",
       "    </tr>\n",
       "    <tr>\n",
       "      <th>153</th>\n",
       "      <td>Mumbai india</td>\n",
       "      <td>horrible accident    man died in wings of airp...</td>\n",
       "      <td>1</td>\n",
       "      <td>0</td>\n",
       "      <td>0</td>\n",
       "      <td>1</td>\n",
       "      <td>0</td>\n",
       "      <td>0</td>\n",
       "      <td>0</td>\n",
       "      <td>0</td>\n",
       "      <td>0</td>\n",
       "      <td>0</td>\n",
       "      <td>1</td>\n",
       "      <td>0</td>\n",
       "    </tr>\n",
       "    <tr>\n",
       "      <th>...</th>\n",
       "      <td>...</td>\n",
       "      <td>...</td>\n",
       "      <td>...</td>\n",
       "      <td>...</td>\n",
       "      <td>...</td>\n",
       "      <td>...</td>\n",
       "      <td>...</td>\n",
       "      <td>...</td>\n",
       "      <td>...</td>\n",
       "      <td>...</td>\n",
       "      <td>...</td>\n",
       "      <td>...</td>\n",
       "      <td>...</td>\n",
       "      <td>...</td>\n",
       "    </tr>\n",
       "    <tr>\n",
       "      <th>7543</th>\n",
       "      <td>Mumbai</td>\n",
       "      <td>wreckage conclusively confirmed as from mh370:...</td>\n",
       "      <td>1</td>\n",
       "      <td>0</td>\n",
       "      <td>0</td>\n",
       "      <td>1</td>\n",
       "      <td>0</td>\n",
       "      <td>0</td>\n",
       "      <td>0</td>\n",
       "      <td>0</td>\n",
       "      <td>0</td>\n",
       "      <td>0</td>\n",
       "      <td>1</td>\n",
       "      <td>0</td>\n",
       "    </tr>\n",
       "    <tr>\n",
       "      <th>7544</th>\n",
       "      <td>Brooklyn, NY</td>\n",
       "      <td>wrecked an hour on youtube with   and   and no...</td>\n",
       "      <td>0</td>\n",
       "      <td>0</td>\n",
       "      <td>0</td>\n",
       "      <td>0</td>\n",
       "      <td>0</td>\n",
       "      <td>0</td>\n",
       "      <td>0</td>\n",
       "      <td>0</td>\n",
       "      <td>0</td>\n",
       "      <td>0</td>\n",
       "      <td>1</td>\n",
       "      <td>1</td>\n",
       "    </tr>\n",
       "    <tr>\n",
       "      <th>7572</th>\n",
       "      <td>Manhattan, NY</td>\n",
       "      <td>did you get wrecked again.</td>\n",
       "      <td>1</td>\n",
       "      <td>0</td>\n",
       "      <td>0</td>\n",
       "      <td>0</td>\n",
       "      <td>0</td>\n",
       "      <td>0</td>\n",
       "      <td>0</td>\n",
       "      <td>0</td>\n",
       "      <td>0</td>\n",
       "      <td>0</td>\n",
       "      <td>1</td>\n",
       "      <td>1</td>\n",
       "    </tr>\n",
       "    <tr>\n",
       "      <th>7579</th>\n",
       "      <td>Vancouver, Canada</td>\n",
       "      <td>three days off from work and they've pretty mu...</td>\n",
       "      <td>0</td>\n",
       "      <td>0</td>\n",
       "      <td>0</td>\n",
       "      <td>0</td>\n",
       "      <td>0</td>\n",
       "      <td>1</td>\n",
       "      <td>0</td>\n",
       "      <td>0</td>\n",
       "      <td>0</td>\n",
       "      <td>0</td>\n",
       "      <td>1</td>\n",
       "      <td>1</td>\n",
       "    </tr>\n",
       "    <tr>\n",
       "      <th>7580</th>\n",
       "      <td>London</td>\n",
       "      <td>fx forex trading cramer: iger is 3 words that ...</td>\n",
       "      <td>0</td>\n",
       "      <td>0</td>\n",
       "      <td>1</td>\n",
       "      <td>0</td>\n",
       "      <td>0</td>\n",
       "      <td>0</td>\n",
       "      <td>0</td>\n",
       "      <td>0</td>\n",
       "      <td>0</td>\n",
       "      <td>0</td>\n",
       "      <td>1</td>\n",
       "      <td>0</td>\n",
       "    </tr>\n",
       "  </tbody>\n",
       "</table>\n",
       "<p>804 rows × 14 columns</p>\n",
       "</div>"
      ],
      "text/plain": [
       "               location                                               text  \\\n",
       "35           London, UK  on plus side look at the sky last night it was...   \n",
       "79         Njoro, Kenya  the pastor was not in the scene of the acciden...   \n",
       "88       Manchester, NH  accident left lane blocked in manchester on rt...   \n",
       "101      Nairobi, Kenya  i still have not heard church leaders of kenya...   \n",
       "153        Mumbai india  horrible accident    man died in wings of airp...   \n",
       "...                 ...                                                ...   \n",
       "7543             Mumbai  wreckage conclusively confirmed as from mh370:...   \n",
       "7544       Brooklyn, NY  wrecked an hour on youtube with   and   and no...   \n",
       "7572      Manhattan, NY                         did you get wrecked again.   \n",
       "7579  Vancouver, Canada  three days off from work and they've pretty mu...   \n",
       "7580            London   fx forex trading cramer: iger is 3 words that ...   \n",
       "\n",
       "      target  america  britain  india  australia  canada  nigeria  \\\n",
       "35         0        0        1      0          0       0        0   \n",
       "79         1        0        0      0          0       0        0   \n",
       "88         1        0        1      0          0       0        0   \n",
       "101        0        0        0      0          0       0        0   \n",
       "153        1        0        0      1          0       0        0   \n",
       "...      ...      ...      ...    ...        ...     ...      ...   \n",
       "7543       1        0        0      1          0       0        0   \n",
       "7544       0        0        0      0          0       0        0   \n",
       "7572       1        0        0      0          0       0        0   \n",
       "7579       0        0        0      0          0       1        0   \n",
       "7580       0        0        1      0          0       0        0   \n",
       "\n",
       "      south_africa  kenya  ireland  major_cities  major_states  \n",
       "35               0      0        0             1             0  \n",
       "79               0      1        0             1             1  \n",
       "88               0      0        0             1             0  \n",
       "101              0      1        0             1             1  \n",
       "153              0      0        0             1             0  \n",
       "...            ...    ...      ...           ...           ...  \n",
       "7543             0      0        0             1             0  \n",
       "7544             0      0        0             1             1  \n",
       "7572             0      0        0             1             1  \n",
       "7579             0      0        0             1             1  \n",
       "7580             0      0        0             1             0  \n",
       "\n",
       "[804 rows x 14 columns]"
      ]
     },
     "execution_count": 293,
     "metadata": {},
     "output_type": "execute_result"
    }
   ],
   "source": [
    "tweets_modified[tweets_modified['major_cities']==1.0]"
   ]
  },
  {
   "cell_type": "code",
   "execution_count": null,
   "metadata": {},
   "outputs": [],
   "source": []
  }
 ],
 "metadata": {
  "kernelspec": {
   "display_name": "Python 3",
   "language": "python",
   "name": "python3"
  },
  "language_info": {
   "codemirror_mode": {
    "name": "ipython",
    "version": 3
   },
   "file_extension": ".py",
   "mimetype": "text/x-python",
   "name": "python",
   "nbconvert_exporter": "python",
   "pygments_lexer": "ipython3",
   "version": "3.7.7"
  }
 },
 "nbformat": 4,
 "nbformat_minor": 4
}
