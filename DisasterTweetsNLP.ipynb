{
 "cells": [
  {
   "cell_type": "markdown",
   "metadata": {},
   "source": [
    "# Disaster Tweets: Predicting Occurences of Real Disasters\n",
    "\n",
    "Twitter has found use recently in many analytics problems as many people from around the world are able to report things before reputable news outlets can verify them. However, it is also the case that people lie or use language that implies a disaster in a metaphorical sense (eg. *we're going to cause an earthquake tonight*). The purpose of this Kaggle competition is to determine which bracket these tweets fall into based on their hand classified tweets."
   ]
  },
  {
   "cell_type": "code",
   "execution_count": 1,
   "metadata": {},
   "outputs": [],
   "source": [
    "import numpy as np\n",
    "import pandas as pd\n",
    "import sys\n",
    "from sys import path\n",
    "import matplotlib.pyplot as plt\n",
    "\n",
    "sys.path.append('./nlp-getting-started/')"
   ]
  },
  {
   "cell_type": "markdown",
   "metadata": {},
   "source": [
    "## Importing the training tweets and getting to understand the dataset\n",
    "\n",
    "Our dataset has $5$ columns:\n",
    " - Id: A unique identifier attached to the tweet.\n",
    " - keyword: A particular keyword from the tweet that might have been important or pertaining to a disaster (may be blank).\n",
    " - location: Location of the sender (may be blank).\n",
    " - text: The text contained in the tweet.\n",
    " - target: The class of the tweet. *Real Disaster* = $1$ and *False Alarm* = $0$\n",
    " \n",
    "In the training set we have $7613$ tweets. \n",
    "\n",
    "There are $222$ unique keywords, including NaN. Examples of some keywords: *avalanche*, *damage*, *cyclone*, *siren* etc. \n",
    "\n",
    "There are $3342$ unique locations in the training set, these are city names such as *London*, *Birmingham*, *Vancouver, Canada* etc.\n",
    " "
   ]
  },
  {
   "cell_type": "code",
   "execution_count": 2,
   "metadata": {},
   "outputs": [
    {
     "data": {
      "text/plain": [
       "(Index(['id', 'keyword', 'location', 'text', 'target'], dtype='object'), 7613)"
      ]
     },
     "execution_count": 2,
     "metadata": {},
     "output_type": "execute_result"
    }
   ],
   "source": [
    "tweets = pd.read_csv('./nlp-getting-started/train.csv')\n",
    "tweets.columns, len(tweets)"
   ]
  },
  {
   "cell_type": "code",
   "execution_count": 3,
   "metadata": {},
   "outputs": [
    {
     "data": {
      "text/html": [
       "<div>\n",
       "<style scoped>\n",
       "    .dataframe tbody tr th:only-of-type {\n",
       "        vertical-align: middle;\n",
       "    }\n",
       "\n",
       "    .dataframe tbody tr th {\n",
       "        vertical-align: top;\n",
       "    }\n",
       "\n",
       "    .dataframe thead th {\n",
       "        text-align: right;\n",
       "    }\n",
       "</style>\n",
       "<table border=\"1\" class=\"dataframe\">\n",
       "  <thead>\n",
       "    <tr style=\"text-align: right;\">\n",
       "      <th></th>\n",
       "      <th>id</th>\n",
       "      <th>keyword</th>\n",
       "      <th>location</th>\n",
       "      <th>text</th>\n",
       "      <th>target</th>\n",
       "    </tr>\n",
       "  </thead>\n",
       "  <tbody>\n",
       "    <tr>\n",
       "      <th>0</th>\n",
       "      <td>1</td>\n",
       "      <td>NaN</td>\n",
       "      <td>NaN</td>\n",
       "      <td>Our Deeds are the Reason of this #earthquake M...</td>\n",
       "      <td>1</td>\n",
       "    </tr>\n",
       "    <tr>\n",
       "      <th>1</th>\n",
       "      <td>4</td>\n",
       "      <td>NaN</td>\n",
       "      <td>NaN</td>\n",
       "      <td>Forest fire near La Ronge Sask. Canada</td>\n",
       "      <td>1</td>\n",
       "    </tr>\n",
       "    <tr>\n",
       "      <th>2</th>\n",
       "      <td>5</td>\n",
       "      <td>NaN</td>\n",
       "      <td>NaN</td>\n",
       "      <td>All residents asked to 'shelter in place' are ...</td>\n",
       "      <td>1</td>\n",
       "    </tr>\n",
       "    <tr>\n",
       "      <th>3</th>\n",
       "      <td>6</td>\n",
       "      <td>NaN</td>\n",
       "      <td>NaN</td>\n",
       "      <td>13,000 people receive #wildfires evacuation or...</td>\n",
       "      <td>1</td>\n",
       "    </tr>\n",
       "    <tr>\n",
       "      <th>4</th>\n",
       "      <td>7</td>\n",
       "      <td>NaN</td>\n",
       "      <td>NaN</td>\n",
       "      <td>Just got sent this photo from Ruby #Alaska as ...</td>\n",
       "      <td>1</td>\n",
       "    </tr>\n",
       "  </tbody>\n",
       "</table>\n",
       "</div>"
      ],
      "text/plain": [
       "   id keyword location                                               text  \\\n",
       "0   1     NaN      NaN  Our Deeds are the Reason of this #earthquake M...   \n",
       "1   4     NaN      NaN             Forest fire near La Ronge Sask. Canada   \n",
       "2   5     NaN      NaN  All residents asked to 'shelter in place' are ...   \n",
       "3   6     NaN      NaN  13,000 people receive #wildfires evacuation or...   \n",
       "4   7     NaN      NaN  Just got sent this photo from Ruby #Alaska as ...   \n",
       "\n",
       "   target  \n",
       "0       1  \n",
       "1       1  \n",
       "2       1  \n",
       "3       1  \n",
       "4       1  "
      ]
     },
     "execution_count": 3,
     "metadata": {},
     "output_type": "execute_result"
    }
   ],
   "source": [
    "tweets.head()"
   ]
  },
  {
   "cell_type": "code",
   "execution_count": 4,
   "metadata": {},
   "outputs": [],
   "source": [
    "tweets['keyword'].unique();\n",
    "tweets['location'].unique();"
   ]
  },
  {
   "cell_type": "code",
   "execution_count": 5,
   "metadata": {},
   "outputs": [
    {
     "name": "stdout",
     "output_type": "stream",
     "text": [
      "This is a preview of the first 5 tweets all of which correspond to real disasters:\n",
      "      \n",
      "0. Our Deeds are the Reason of this #earthquake May ALLAH Forgive us all\n",
      "1. Forest fire near La Ronge Sask. Canada\n",
      "2. All residents asked to 'shelter in place' are being notified by officers. No other evacuation or shelter in place orders are expected\n",
      "3. 13,000 people receive #wildfires evacuation orders in California \n",
      "4. Just got sent this photo from Ruby #Alaska as smoke from #wildfires pours into a school \n"
     ]
    }
   ],
   "source": [
    "#Previewing some tweets\n",
    "print('''This is a preview of the first 5 tweets all of which correspond to real disasters:\n",
    "      ''')\n",
    "for i in range(5):\n",
    "    print(('%d. '+tweets['text'][i]) % i)"
   ]
  },
  {
   "cell_type": "code",
   "execution_count": 6,
   "metadata": {},
   "outputs": [
    {
     "name": "stdout",
     "output_type": "stream",
     "text": [
      "This is a preview of the first 5 tweets all of which correspond to false alarms:\n",
      "      \n",
      "1. What's up man?\n",
      "2. I love fruits\n",
      "3. Summer is lovely\n",
      "4. My car is so fast\n",
      "5. What a goooooooaaaaaal!!!!!!\n"
     ]
    }
   ],
   "source": [
    "print('''This is a preview of the first 5 tweets all of which correspond to false alarms:\n",
    "      ''')\n",
    "\n",
    "counter = 1\n",
    "for txt in tweets[tweets['target']==0]['text'][0:5]:\n",
    "    print(('%d. '+txt) % counter)\n",
    "    counter += 1\n"
   ]
  },
  {
   "cell_type": "markdown",
   "metadata": {},
   "source": [
    "### Observations about the text:\n",
    "\n",
    "The text is likely to contain typos or misspellings as can be seen with the word *gooooooaaaaaaal*. The vocabulary we construct will be unlikely to contain such words due to their infrequency.\n",
    "\n",
    "Tweeters often use # (hashtags) to indicate an important or relevant topic. This would likely be removed in standard tokenization, but it might be worth trying to retain the hashtag as they are words the tweeter wants to highlight. **Consider adding another column to the dataframe that only includes hashtags**\n",
    "\n",
    "### Visualising occurences of keywords and locations\n",
    "\n",
    "As we see, the most common word is *fatalities* with 45 counts (NaN excluded). The least used keyword is *radiation emergency* with 9 counts. However, for the keywords column the data has a very small gradient, with many keywords appearing a similar number of times.\n",
    "\n",
    "The most frequent location of tweets are *USA* for country and *New York* for cities. Interestingly, *London* comes in at 2nd in the list of cities, but *UK* comes in 3rd place for countries."
   ]
  },
  {
   "cell_type": "code",
   "execution_count": 7,
   "metadata": {},
   "outputs": [
    {
     "data": {
      "image/png": "[encoded data removed]",
      "text/plain": [
       "<Figure size 1584x288 with 1 Axes>"
      ]
     },
     "metadata": {
      "needs_background": "light"
     },
     "output_type": "display_data"
    }
   ],
   "source": [
    "top_counts = [tweets['keyword'].value_counts()[i] for i in range(20)]\n",
    "top_words = tweets['keyword'].value_counts().index.tolist()[0:20]\n",
    "\n",
    "fig = plt.figure(figsize=(22,4))\n",
    "plt.bar([i for i in range(20)],top_counts,width=0.7)\n",
    "plt.xticks([i for i in range(20)],top_words)\n",
    "plt.ylabel('Frequency')\n",
    "plt.title('Frequency of certain keywords in the training corpus')\n",
    "plt.show()"
   ]
  },
  {
   "cell_type": "code",
   "execution_count": 8,
   "metadata": {},
   "outputs": [
    {
     "data": {
      "text/plain": [
       "radiation%20emergency    9\n",
       "Name: keyword, dtype: int64"
      ]
     },
     "execution_count": 8,
     "metadata": {},
     "output_type": "execute_result"
    }
   ],
   "source": [
    "tweets['keyword'].value_counts()[0:2];\n",
    "tweets['keyword'].value_counts()[220:221]\n"
   ]
  },
  {
   "cell_type": "code",
   "execution_count": 9,
   "metadata": {
    "scrolled": true
   },
   "outputs": [
    {
     "data": {
      "image/png": "[encoded data removed]",
      "text/plain": [
       "<Figure size 1584x288 with 1 Axes>"
      ]
     },
     "metadata": {
      "needs_background": "light"
     },
     "output_type": "display_data"
    }
   ],
   "source": [
    "top_loc_counts = [tweets['location'].value_counts()[i] for i in range(20)]\n",
    "top_locs = tweets['location'].value_counts().index.tolist()[0:20]\n",
    "\n",
    "fig = plt.figure(figsize=(22,4))\n",
    "plt.bar([i for i in range(20)],top_loc_counts,width=0.7)\n",
    "plt.xticks([i for i in range(20)],top_locs)\n",
    "plt.ylabel('Frequency')\n",
    "plt.title('Frequency of certain keywords in the training corpus')\n",
    "plt.show()"
   ]
  },
  {
   "cell_type": "markdown",
   "metadata": {},
   "source": [
    "## Cleaning the text data using the Regular Expressions (re) library\n"
   ]
  },
  {
   "cell_type": "code",
   "execution_count": 10,
   "metadata": {},
   "outputs": [],
   "source": [
    "import re\n",
    "\n",
    "def clean_tweet(text):\n",
    "    # encode tweets as utf-8 strings\n",
    "#     text = text.decode('utf-8')\n",
    "    # remove commas in numbers (else vectorizer will split on them)\n",
    "    text = re.sub(r',([0-9])', '\\\\1', text)\n",
    "    # sort out HMTL formatting of &\n",
    "    text = re.sub(r'&amp', 'and', text)\n",
    "    # strip urls\n",
    "    return re.sub(r'http[s]{0,1}://[^\\s]*', '', text)\n",
    "\n",
    "tweets['text'] = tweets['text'].map(clean_tweet)"
   ]
  },
  {
   "cell_type": "markdown",
   "metadata": {},
   "source": [
    "## Basic word analysis\n",
    "\n",
    "Questions to answer: How many words on average does a tweet have, What are the most common words, What is the word distribution for the 100 most common words, Word Cloud?\n",
    "\n",
    "Importantly, we should also know how these keywords correlate with the target label. For example, is the word 'blast' found more often in non-emergency tweets than emergency tweets? What we would find from this is the class imbalance. If a word was involved in a disaster 80% of the time, then a basic model could get a high recall by always associating that word with a disaster target label. However, as it would throw up a lot of false positives, it would have low precision.\n",
    "\n",
    "There are 222 keywords, including NaN, so we will only plot the top and bottom 20 ratios, as well as those middling ones."
   ]
  },
  {
   "cell_type": "code",
   "execution_count": 11,
   "metadata": {
    "scrolled": false
   },
   "outputs": [
    {
     "name": "stderr",
     "output_type": "stream",
     "text": [
      "/Users/eh115/anaconda3/envs/tf/lib/python3.7/site-packages/ipykernel_launcher.py:4: RuntimeWarning: invalid value encountered in long_scalars\n",
      "  after removing the cwd from sys.path.\n"
     ]
    }
   ],
   "source": [
    "#Analysing class imbalance for all relevant keywords\n",
    "\n",
    "keywords = tweets['keyword'].unique()\n",
    "keyword_target_fraction = {keyword: (tweets[tweets['keyword']== keyword]['target'].sum()/len(tweets[tweets['keyword']== keyword])) for keyword in keywords}\n",
    "keyword_target_fraction;\n",
    "\n",
    "#Need to sort the keyword_target_fraction dictionary by ratio. \n",
    "keyword_target_fraction_list = [[k, v] for (k,v) in keyword_target_fraction.items()]\n",
    "\n",
    "keyword_target_fraction_list.sort(key=lambda x: x[1])\n",
    "\n",
    "#remove the NaN row\n",
    "key_target_fractions = keyword_target_fraction_list[1:]\n",
    "\n",
    "#showing the list\n",
    "key_target_fractions;"
   ]
  },
  {
   "cell_type": "code",
   "execution_count": 12,
   "metadata": {
    "scrolled": false,
    "tags": [
     "hide_input"
    ]
   },
   "outputs": [
    {
     "data": {
      "image/png": "[encoded data removed]",
      "text/plain": [
       "<Figure size 2016x1728 with 3 Axes>"
      ]
     },
     "metadata": {
      "needs_background": "light"
     },
     "output_type": "display_data"
    }
   ],
   "source": [
    "#Plotting the fraction of real disasters for each keyword\n",
    "bottom_20 = np.array(key_target_fractions)[:,1:][0:20].flatten().astype(float)\n",
    "top_20 = np.array(key_target_fractions)[:,1:][-20:].flatten().astype(float)\n",
    "middle_20 = np.array(key_target_fractions)[:,1:][100:120].flatten().astype(float)\n",
    "\n",
    "#Some names need to be cleaned due to formatting\n",
    "bottom_20_names = np.array(key_target_fractions)[:,0:1][0:20].flatten()\n",
    "bottom_20_names = [name.replace('%20',' ') for name in bottom_20_names]\n",
    "\n",
    "top_20_names =  np.array(key_target_fractions)[:,0:1][-20:].flatten()\n",
    "top_20_names = [name.replace('%20',' ') for name in top_20_names]\n",
    "\n",
    "middle_20_names =  np.array(key_target_fractions)[:,0:1][100:120].flatten()\n",
    "middle_20_names = [name.replace('%20',' ') for name in middle_20_names]\n",
    "\n",
    "\n",
    "fig, ax = plt.subplots(figsize=(28,24), nrows = 3)\n",
    "\n",
    "ax[0].bar([i for i in range(20)],bottom_20)\n",
    "ax[0].set_xticks([i for i in range(20)])\n",
    "ax[0].set_xticklabels(bottom_20_names)\n",
    "ax[0].set_yticks([0,0.5,1])\n",
    "ax[0].set_yticklabels([0,0.05,0.1])\n",
    "ax[0].set_ylabel('Percentage of tweets corresponding to real disaster',fontsize = 14)\n",
    "ax[0].set_xlabel('Keyword associated to Tweet',fontsize = 14)\n",
    "ax[0].set_xlim([0.5,19.5])\n",
    "\n",
    "ax[2].bar([i for i in range(20)],top_20)\n",
    "ax[2].set_xticks([i for i in range(20)])\n",
    "ax[2].set_xticklabels(top_20_names)\n",
    "ax[2].set_yticks([0,0.5,1])\n",
    "ax[2].set_yticklabels([0,0.5,1])\n",
    "ax[2].set_ylabel('Percentage of tweets corresponding to real disaster',fontsize = 14)\n",
    "ax[2].set_xlabel('Keyword associated to Tweet',fontsize = 14)\n",
    "ax[2].set_xlim([0.5,19.5])\n",
    "\n",
    "ax[1].bar([i for i in range(20)],middle_20)\n",
    "ax[1].set_xticks([i for i in range(20)])\n",
    "ax[1].set_xticklabels(middle_20_names)\n",
    "ax[1].set_yticks([0,0.5,1])\n",
    "ax[1].set_yticklabels([0,0.5,1])\n",
    "ax[1].set_ylabel('Percentage of tweets corresponding to real disaster',fontsize = 14)\n",
    "ax[1].set_xlabel('Keyword associated to Tweet',fontsize = 14)\n",
    "ax[1].set_xlim([0.5,19.5])\n",
    "plt.show()"
   ]
  },
  {
   "cell_type": "markdown",
   "metadata": {},
   "source": [
    "**Observations**\n",
    "\n",
    "- There are a few surprises hidden here. For example, most uses of the phrase 'body bag' do not correspond to an instance of a disaster. This is quite odd, as the other words in the bottom 20 can at least be used in other examples. My experience suggests it is rare to see body bags outside of a disaster setting.\n",
    "\n",
    "- All phrases in the top 20 suggest real disasters and are therefore heavily imbalanced. Interestingly, typhoon has a very strong correlation with a real disaster, whereas the closely related word whirlwind, seemingly has a much smaller association with disasters.\n",
    "\n",
    "Lets peer into these examples some more."
   ]
  },
  {
   "cell_type": "code",
   "execution_count": 13,
   "metadata": {},
   "outputs": [
    {
     "name": "stdout",
     "output_type": "stream",
     "text": [
      "@FoxNews @JenGriffinFNC When you call to report dangerous activity tell em to have body bags on arrival.\n",
      "\n",
      "Micom 2015 Summer Contrast Candy Color Bowknot Cross Body Tote Shoulder Bags for Womengirls with Micom Zip Po \n",
      "\n",
      "HOBO Hobo Vintage Shira Convertible BÛ_ $238.00 #bestseller \n",
      "\n",
      "Child Shoulder Bags PVC Shoulder Book Bag Cartoon Cross Body Bags for Girls  \n",
      "\n",
      "Womens Buckle Casual Stylish Shoulder Handbags Pockets Cross Body Bags Green \n",
      "\n",
      "Ain't no bags in the trunk it's a body\n",
      "\n",
      "BESTSELLER! Fossil Dawson Mini Cross Body Bag EsÛ_ $98.00 \n",
      "\n",
      "@BoomerangTime @RSKarim1 @sopameer @wattashit3 Appears to already be arriving in Ridah in body bags.\n",
      "\n",
      "The Body Bags has a show on 08/07/2015 at 07:30 PM @ Tremont Music Hall in Charlotte NC  #concert\n",
      "\n",
      "BODY BAGS! \n",
      "\n",
      "you know you hate your body when you buy 2 bags of chips and a variety pack of fruit snacks and a redbull as a snack\n",
      "\n"
     ]
    }
   ],
   "source": [
    "#Printing 10 tweets associated to the body bags keyword\n",
    "count = 10\n",
    "for tweet in tweets['text'][tweets['keyword'] == 'body%20bags']:\n",
    "    print(tweet + '\\n')\n",
    "    count += -1\n",
    "    if count < 0:\n",
    "        break"
   ]
  },
  {
   "cell_type": "markdown",
   "metadata": {},
   "source": [
    "**Observation**\n",
    "\n",
    "What we see is that many instances of the words 'body' and 'bag' appearing together, are often to do with fashion or the words are separated.\n",
    "\n",
    "### Further cleaning the data\n",
    "\n",
    "As we can see in some of the prior examples, dates as well as prices appear. We will remove dates and prices, though an interesting thing to look at would be the appearance of prices in tweets and their target label. I suspect no prices appear in real disaster tweets, which would remove many cases."
   ]
  },
  {
   "cell_type": "code",
   "execution_count": 45,
   "metadata": {},
   "outputs": [
    {
     "data": {
      "text/plain": [
       "'@kimkardashian can you please sign and share this petition to save wild horses in arizona.  ????'"
      ]
     },
     "execution_count": 45,
     "metadata": {},
     "output_type": "execute_result"
    }
   ],
   "source": [
    "# Make every tweet lower case and create a list of keyword tweet pairs\n",
    "kw_twt_pairs = []\n",
    "count = 0\n",
    "for tweet in tweets['text'].str.lower():\n",
    "    kw_twt_pairs.append([tweets['keyword'][count],tweet])\n",
    "    count += 1\n",
    "\n",
    "\n",
    "kw_twt_pairs[252][1]"
   ]
  },
  {
   "cell_type": "markdown",
   "metadata": {},
   "source": [
    "### Word tokenization, lemmatization, removal of stop words and part of speech tagging\n",
    "\n",
    "Need to remove unwanted punctuation"
   ]
  },
  {
   "cell_type": "code",
   "execution_count": 46,
   "metadata": {
    "scrolled": true
   },
   "outputs": [
    {
     "name": "stderr",
     "output_type": "stream",
     "text": [
      "[nltk_data] Downloading package punkt to /Users/eh115/nltk_data...\n",
      "[nltk_data]   Package punkt is already up-to-date!\n"
     ]
    }
   ],
   "source": [
    "import nltk\n",
    "from nltk.tokenize import word_tokenize\n",
    "nltk.download('punkt')\n",
    "\n",
    "count = 0\n",
    "for block in kw_twt_pairs:\n",
    "    kw_twt_pairs[count][1] = word_tokenize(block[1])\n",
    "    count += 1\n",
    "\n",
    "    \n",
    "kw_twt_pairs;"
   ]
  },
  {
   "cell_type": "code",
   "execution_count": 47,
   "metadata": {
    "scrolled": false
   },
   "outputs": [
    {
     "data": {
      "text/plain": [
       "['attacked',\n",
       " ['christian',\n",
       "  'attacked',\n",
       "  'by',\n",
       "  'muslims',\n",
       "  'at',\n",
       "  'the',\n",
       "  'temple',\n",
       "  'mount',\n",
       "  'after',\n",
       "  'waving',\n",
       "  'israeli',\n",
       "  'flag',\n",
       "  'via',\n",
       "  'pamela',\n",
       "  'geller',\n",
       "  '-',\n",
       "  '...']]"
      ]
     },
     "execution_count": 47,
     "metadata": {},
     "output_type": "execute_result"
    }
   ],
   "source": [
    "#The sentences are now tokenized\n",
    "kw_twt_pairs[500]"
   ]
  },
  {
   "cell_type": "code",
   "execution_count": 48,
   "metadata": {},
   "outputs": [
    {
     "name": "stderr",
     "output_type": "stream",
     "text": [
      "[nltk_data] Downloading package averaged_perceptron_tagger to\n",
      "[nltk_data]     /Users/eh115/nltk_data...\n",
      "[nltk_data]   Package averaged_perceptron_tagger is already up-to-\n",
      "[nltk_data]       date!\n"
     ]
    },
    {
     "data": {
      "text/plain": [
       "True"
      ]
     },
     "execution_count": 48,
     "metadata": {},
     "output_type": "execute_result"
    }
   ],
   "source": [
    "#pos tagging to be able to put words in their root form\n",
    "from nltk import pos_tag\n",
    "nltk.download('averaged_perceptron_tagger')"
   ]
  },
  {
   "cell_type": "code",
   "execution_count": 49,
   "metadata": {},
   "outputs": [],
   "source": [
    "count = 0\n",
    "for block in kw_twt_pairs:\n",
    "    kw_twt_pairs[count][1] = pos_tag(kw_twt_pairs[count][1])\n",
    "    count += 1\n"
   ]
  },
  {
   "cell_type": "code",
   "execution_count": 54,
   "metadata": {},
   "outputs": [],
   "source": [
    "kw_twt_pairs;"
   ]
  },
  {
   "cell_type": "code",
   "execution_count": 23,
   "metadata": {},
   "outputs": [
    {
     "name": "stderr",
     "output_type": "stream",
     "text": [
      "[nltk_data] Downloading package wordnet to /Users/eh115/nltk_data...\n",
      "[nltk_data]   Package wordnet is already up-to-date!\n"
     ]
    },
    {
     "data": {
      "text/plain": [
       "True"
      ]
     },
     "execution_count": 23,
     "metadata": {},
     "output_type": "execute_result"
    }
   ],
   "source": [
    "#Lemmatizing the words to reduce to root form\n",
    "from nltk.stem import WordNetLemmatizer\n",
    "nltk.download('wordnet')"
   ]
  },
  {
   "cell_type": "code",
   "execution_count": 72,
   "metadata": {},
   "outputs": [
    {
     "ename": "KeyError",
     "evalue": "'PRP$'",
     "output_type": "error",
     "traceback": [
      "\u001b[0;31m---------------------------------------------------------------------------\u001b[0m",
      "\u001b[0;31mKeyError\u001b[0m                                  Traceback (most recent call last)",
      "\u001b[0;32m<ipython-input-72-a5d208c49f6e>\u001b[0m in \u001b[0;36m<module>\u001b[0;34m\u001b[0m\n\u001b[1;32m      6\u001b[0m     \u001b[0;32mfor\u001b[0m \u001b[0mtokenized_word\u001b[0m \u001b[0;32min\u001b[0m \u001b[0mblock\u001b[0m\u001b[0;34m[\u001b[0m\u001b[0;36m1\u001b[0m\u001b[0;34m]\u001b[0m\u001b[0;34m:\u001b[0m\u001b[0;34m\u001b[0m\u001b[0;34m\u001b[0m\u001b[0m\n\u001b[1;32m      7\u001b[0m         \u001b[0mword_pos\u001b[0m \u001b[0;34m=\u001b[0m \u001b[0mblock\u001b[0m\u001b[0;34m[\u001b[0m\u001b[0;36m1\u001b[0m\u001b[0;34m]\u001b[0m\u001b[0;34m[\u001b[0m\u001b[0mword_count\u001b[0m\u001b[0;34m]\u001b[0m\u001b[0;34m[\u001b[0m\u001b[0;36m1\u001b[0m\u001b[0;34m]\u001b[0m\u001b[0;34m\u001b[0m\u001b[0;34m\u001b[0m\u001b[0m\n\u001b[0;32m----> 8\u001b[0;31m         \u001b[0mkw_twt_pairs\u001b[0m\u001b[0;34m[\u001b[0m\u001b[0mcount\u001b[0m\u001b[0;34m]\u001b[0m\u001b[0;34m[\u001b[0m\u001b[0;36m1\u001b[0m\u001b[0;34m]\u001b[0m\u001b[0;34m[\u001b[0m\u001b[0mword_count\u001b[0m\u001b[0;34m]\u001b[0m \u001b[0;34m==\u001b[0m \u001b[0;34m(\u001b[0m\u001b[0mlemmatizer\u001b[0m\u001b[0;34m.\u001b[0m\u001b[0mlemmatize\u001b[0m\u001b[0;34m(\u001b[0m\u001b[0mblock\u001b[0m\u001b[0;34m[\u001b[0m\u001b[0;36m1\u001b[0m\u001b[0;34m]\u001b[0m\u001b[0;34m[\u001b[0m\u001b[0mword_count\u001b[0m\u001b[0;34m]\u001b[0m\u001b[0;34m[\u001b[0m\u001b[0;36m0\u001b[0m\u001b[0;34m]\u001b[0m\u001b[0;34m,\u001b[0m \u001b[0mpos\u001b[0m\u001b[0;34m=\u001b[0m\u001b[0mword_pos\u001b[0m\u001b[0;34m)\u001b[0m\u001b[0;34m,\u001b[0m \u001b[0mword_pos\u001b[0m\u001b[0;34m)\u001b[0m\u001b[0;34m\u001b[0m\u001b[0;34m\u001b[0m\u001b[0m\n\u001b[0m\u001b[1;32m      9\u001b[0m         \u001b[0mword_count\u001b[0m \u001b[0;34m+=\u001b[0m \u001b[0;36m1\u001b[0m\u001b[0;34m\u001b[0m\u001b[0;34m\u001b[0m\u001b[0m\n\u001b[1;32m     10\u001b[0m     \u001b[0mword_count\u001b[0m \u001b[0;34m=\u001b[0m \u001b[0;36m0\u001b[0m\u001b[0;34m\u001b[0m\u001b[0;34m\u001b[0m\u001b[0m\n",
      "\u001b[0;32m~/anaconda3/envs/tf/lib/python3.7/site-packages/nltk/stem/wordnet.py\u001b[0m in \u001b[0;36mlemmatize\u001b[0;34m(self, word, pos)\u001b[0m\n\u001b[1;32m     39\u001b[0m \u001b[0;34m\u001b[0m\u001b[0m\n\u001b[1;32m     40\u001b[0m     \u001b[0;32mdef\u001b[0m \u001b[0mlemmatize\u001b[0m\u001b[0;34m(\u001b[0m\u001b[0mself\u001b[0m\u001b[0;34m,\u001b[0m \u001b[0mword\u001b[0m\u001b[0;34m,\u001b[0m \u001b[0mpos\u001b[0m\u001b[0;34m=\u001b[0m\u001b[0mNOUN\u001b[0m\u001b[0;34m)\u001b[0m\u001b[0;34m:\u001b[0m\u001b[0;34m\u001b[0m\u001b[0;34m\u001b[0m\u001b[0m\n\u001b[0;32m---> 41\u001b[0;31m         \u001b[0mlemmas\u001b[0m \u001b[0;34m=\u001b[0m \u001b[0mwordnet\u001b[0m\u001b[0;34m.\u001b[0m\u001b[0m_morphy\u001b[0m\u001b[0;34m(\u001b[0m\u001b[0mword\u001b[0m\u001b[0;34m,\u001b[0m \u001b[0mpos\u001b[0m\u001b[0;34m)\u001b[0m\u001b[0;34m\u001b[0m\u001b[0;34m\u001b[0m\u001b[0m\n\u001b[0m\u001b[1;32m     42\u001b[0m         \u001b[0;32mreturn\u001b[0m \u001b[0mmin\u001b[0m\u001b[0;34m(\u001b[0m\u001b[0mlemmas\u001b[0m\u001b[0;34m,\u001b[0m \u001b[0mkey\u001b[0m\u001b[0;34m=\u001b[0m\u001b[0mlen\u001b[0m\u001b[0;34m)\u001b[0m \u001b[0;32mif\u001b[0m \u001b[0mlemmas\u001b[0m \u001b[0;32melse\u001b[0m \u001b[0mword\u001b[0m\u001b[0;34m\u001b[0m\u001b[0;34m\u001b[0m\u001b[0m\n\u001b[1;32m     43\u001b[0m \u001b[0;34m\u001b[0m\u001b[0m\n",
      "\u001b[0;32m~/anaconda3/envs/tf/lib/python3.7/site-packages/nltk/corpus/reader/wordnet.py\u001b[0m in \u001b[0;36m_morphy\u001b[0;34m(self, form, pos, check_exceptions)\u001b[0m\n\u001b[1;32m   1879\u001b[0m         \u001b[0;31m#    find a match or you can't go any further\u001b[0m\u001b[0;34m\u001b[0m\u001b[0;34m\u001b[0m\u001b[0;34m\u001b[0m\u001b[0m\n\u001b[1;32m   1880\u001b[0m \u001b[0;34m\u001b[0m\u001b[0m\n\u001b[0;32m-> 1881\u001b[0;31m         \u001b[0mexceptions\u001b[0m \u001b[0;34m=\u001b[0m \u001b[0mself\u001b[0m\u001b[0;34m.\u001b[0m\u001b[0m_exception_map\u001b[0m\u001b[0;34m[\u001b[0m\u001b[0mpos\u001b[0m\u001b[0;34m]\u001b[0m\u001b[0;34m\u001b[0m\u001b[0;34m\u001b[0m\u001b[0m\n\u001b[0m\u001b[1;32m   1882\u001b[0m         \u001b[0msubstitutions\u001b[0m \u001b[0;34m=\u001b[0m \u001b[0mself\u001b[0m\u001b[0;34m.\u001b[0m\u001b[0mMORPHOLOGICAL_SUBSTITUTIONS\u001b[0m\u001b[0;34m[\u001b[0m\u001b[0mpos\u001b[0m\u001b[0;34m]\u001b[0m\u001b[0;34m\u001b[0m\u001b[0;34m\u001b[0m\u001b[0m\n\u001b[1;32m   1883\u001b[0m \u001b[0;34m\u001b[0m\u001b[0m\n",
      "\u001b[0;31mKeyError\u001b[0m: 'PRP$'"
     ]
    }
   ],
   "source": [
    "lemmatizer = WordNetLemmatizer()\n",
    "\n",
    "count = 0\n",
    "word_count = 0\n",
    "for block in kw_twt_pairs:\n",
    "    for tokenized_word in block[1]:\n",
    "        word_pos = block[1][word_count][1]\n",
    "        kw_twt_pairs[count][1][word_count] == (lemmatizer.lemmatize(block[1][word_count][0], pos=word_pos), word_pos)\n",
    "        word_count += 1\n",
    "    word_count = 0\n",
    "    count += 1\n"
   ]
  },
  {
   "cell_type": "markdown",
   "metadata": {},
   "source": [
    "## Creating a vocabulary from the tweets"
   ]
  },
  {
   "cell_type": "code",
   "execution_count": 85,
   "metadata": {},
   "outputs": [
    {
     "data": {
      "text/plain": [
       "'our'"
      ]
     },
     "execution_count": 85,
     "metadata": {},
     "output_type": "execute_result"
    }
   ],
   "source": [
    "lemmatizer.lemmatize(kw_twt_pairs[0][1][0][0],'v')"
   ]
  },
  {
   "cell_type": "code",
   "execution_count": null,
   "metadata": {},
   "outputs": [],
   "source": []
  }
 ],
 "metadata": {
  "kernelspec": {
   "display_name": "Python 3",
   "language": "python",
   "name": "python3"
  },
  "language_info": {
   "codemirror_mode": {
    "name": "ipython",
    "version": 3
   },
   "file_extension": ".py",
   "mimetype": "text/x-python",
   "name": "python",
   "nbconvert_exporter": "python",
   "pygments_lexer": "ipython3",
   "version": "3.7.7"
  }
 },
 "nbformat": 4,
 "nbformat_minor": 4
}
